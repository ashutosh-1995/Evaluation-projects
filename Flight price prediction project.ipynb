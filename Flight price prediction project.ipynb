{
 "cells": [
  {
   "cell_type": "markdown",
   "id": "ba7bbd2a",
   "metadata": {},
   "source": [
    "# Objective : To predict the price of flight ticket.\n",
    "\n",
    "In this task 2 dataset are given. One is training dataset and the other is testing dataset. So we need to train model on training dataset and then test it on testing dataset. By doing this we need to predict price of ticket of flight.\n",
    "\n",
    "* Target feature is Price in the train dataset and there is no target feature in test dataset\n",
    "\n",
    "#### Importing various libraries necessary for task."
   ]
  },
  {
   "cell_type": "code",
   "execution_count": 1,
   "id": "fe7a44e1",
   "metadata": {},
   "outputs": [],
   "source": [
    "import numpy as np\n",
    "import pandas as pd\n",
    "import matplotlib.pyplot as plt\n",
    "import seaborn as sns\n",
    "from sklearn.model_selection import train_test_split, GridSearchCV\n",
    "from sklearn.preprocessing import StandardScaler\n",
    "from sklearn.linear_model import LinearRegression\n",
    "from sklearn.tree import DecisionTreeRegressor\n",
    "from sklearn.ensemble import RandomForestRegressor, BaggingRegressor\n",
    "from sklearn.svm import SVR\n",
    "from sklearn import metrics\n",
    "import pickle\n",
    "import warnings\n",
    "warnings.filterwarnings('ignore')"
   ]
  },
  {
   "cell_type": "code",
   "execution_count": 2,
   "id": "a6f09bbf",
   "metadata": {},
   "outputs": [],
   "source": [
    "train = pd.read_excel('Data_Train.xlsx')"
   ]
  },
  {
   "cell_type": "code",
   "execution_count": 3,
   "id": "ec9d34c6",
   "metadata": {},
   "outputs": [
    {
     "data": {
      "text/html": [
       "<div>\n",
       "<style scoped>\n",
       "    .dataframe tbody tr th:only-of-type {\n",
       "        vertical-align: middle;\n",
       "    }\n",
       "\n",
       "    .dataframe tbody tr th {\n",
       "        vertical-align: top;\n",
       "    }\n",
       "\n",
       "    .dataframe thead th {\n",
       "        text-align: right;\n",
       "    }\n",
       "</style>\n",
       "<table border=\"1\" class=\"dataframe\">\n",
       "  <thead>\n",
       "    <tr style=\"text-align: right;\">\n",
       "      <th></th>\n",
       "      <th>Airline</th>\n",
       "      <th>Date_of_Journey</th>\n",
       "      <th>Source</th>\n",
       "      <th>Destination</th>\n",
       "      <th>Route</th>\n",
       "      <th>Dep_Time</th>\n",
       "      <th>Arrival_Time</th>\n",
       "      <th>Duration</th>\n",
       "      <th>Total_Stops</th>\n",
       "      <th>Additional_Info</th>\n",
       "      <th>Price</th>\n",
       "    </tr>\n",
       "  </thead>\n",
       "  <tbody>\n",
       "    <tr>\n",
       "      <th>0</th>\n",
       "      <td>IndiGo</td>\n",
       "      <td>24/03/2019</td>\n",
       "      <td>Banglore</td>\n",
       "      <td>New Delhi</td>\n",
       "      <td>BLR → DEL</td>\n",
       "      <td>22:20</td>\n",
       "      <td>01:10 22 Mar</td>\n",
       "      <td>2h 50m</td>\n",
       "      <td>non-stop</td>\n",
       "      <td>No info</td>\n",
       "      <td>3897</td>\n",
       "    </tr>\n",
       "    <tr>\n",
       "      <th>1</th>\n",
       "      <td>Air India</td>\n",
       "      <td>1/05/2019</td>\n",
       "      <td>Kolkata</td>\n",
       "      <td>Banglore</td>\n",
       "      <td>CCU → IXR → BBI → BLR</td>\n",
       "      <td>05:50</td>\n",
       "      <td>13:15</td>\n",
       "      <td>7h 25m</td>\n",
       "      <td>2 stops</td>\n",
       "      <td>No info</td>\n",
       "      <td>7662</td>\n",
       "    </tr>\n",
       "    <tr>\n",
       "      <th>2</th>\n",
       "      <td>Jet Airways</td>\n",
       "      <td>9/06/2019</td>\n",
       "      <td>Delhi</td>\n",
       "      <td>Cochin</td>\n",
       "      <td>DEL → LKO → BOM → COK</td>\n",
       "      <td>09:25</td>\n",
       "      <td>04:25 10 Jun</td>\n",
       "      <td>19h</td>\n",
       "      <td>2 stops</td>\n",
       "      <td>No info</td>\n",
       "      <td>13882</td>\n",
       "    </tr>\n",
       "    <tr>\n",
       "      <th>3</th>\n",
       "      <td>IndiGo</td>\n",
       "      <td>12/05/2019</td>\n",
       "      <td>Kolkata</td>\n",
       "      <td>Banglore</td>\n",
       "      <td>CCU → NAG → BLR</td>\n",
       "      <td>18:05</td>\n",
       "      <td>23:30</td>\n",
       "      <td>5h 25m</td>\n",
       "      <td>1 stop</td>\n",
       "      <td>No info</td>\n",
       "      <td>6218</td>\n",
       "    </tr>\n",
       "    <tr>\n",
       "      <th>4</th>\n",
       "      <td>IndiGo</td>\n",
       "      <td>01/03/2019</td>\n",
       "      <td>Banglore</td>\n",
       "      <td>New Delhi</td>\n",
       "      <td>BLR → NAG → DEL</td>\n",
       "      <td>16:50</td>\n",
       "      <td>21:35</td>\n",
       "      <td>4h 45m</td>\n",
       "      <td>1 stop</td>\n",
       "      <td>No info</td>\n",
       "      <td>13302</td>\n",
       "    </tr>\n",
       "  </tbody>\n",
       "</table>\n",
       "</div>"
      ],
      "text/plain": [
       "       Airline Date_of_Journey    Source Destination                  Route  \\\n",
       "0       IndiGo      24/03/2019  Banglore   New Delhi              BLR → DEL   \n",
       "1    Air India       1/05/2019   Kolkata    Banglore  CCU → IXR → BBI → BLR   \n",
       "2  Jet Airways       9/06/2019     Delhi      Cochin  DEL → LKO → BOM → COK   \n",
       "3       IndiGo      12/05/2019   Kolkata    Banglore        CCU → NAG → BLR   \n",
       "4       IndiGo      01/03/2019  Banglore   New Delhi        BLR → NAG → DEL   \n",
       "\n",
       "  Dep_Time  Arrival_Time Duration Total_Stops Additional_Info  Price  \n",
       "0    22:20  01:10 22 Mar   2h 50m    non-stop         No info   3897  \n",
       "1    05:50         13:15   7h 25m     2 stops         No info   7662  \n",
       "2    09:25  04:25 10 Jun      19h     2 stops         No info  13882  \n",
       "3    18:05         23:30   5h 25m      1 stop         No info   6218  \n",
       "4    16:50         21:35   4h 45m      1 stop         No info  13302  "
      ]
     },
     "execution_count": 3,
     "metadata": {},
     "output_type": "execute_result"
    }
   ],
   "source": [
    "train.head()"
   ]
  },
  {
   "cell_type": "code",
   "execution_count": 4,
   "id": "54a529d9",
   "metadata": {},
   "outputs": [],
   "source": [
    "test = pd.read_excel('Test_set.xlsx')"
   ]
  },
  {
   "cell_type": "code",
   "execution_count": 5,
   "id": "c293fd2b",
   "metadata": {},
   "outputs": [
    {
     "data": {
      "text/html": [
       "<div>\n",
       "<style scoped>\n",
       "    .dataframe tbody tr th:only-of-type {\n",
       "        vertical-align: middle;\n",
       "    }\n",
       "\n",
       "    .dataframe tbody tr th {\n",
       "        vertical-align: top;\n",
       "    }\n",
       "\n",
       "    .dataframe thead th {\n",
       "        text-align: right;\n",
       "    }\n",
       "</style>\n",
       "<table border=\"1\" class=\"dataframe\">\n",
       "  <thead>\n",
       "    <tr style=\"text-align: right;\">\n",
       "      <th></th>\n",
       "      <th>Airline</th>\n",
       "      <th>Date_of_Journey</th>\n",
       "      <th>Source</th>\n",
       "      <th>Destination</th>\n",
       "      <th>Route</th>\n",
       "      <th>Dep_Time</th>\n",
       "      <th>Arrival_Time</th>\n",
       "      <th>Duration</th>\n",
       "      <th>Total_Stops</th>\n",
       "      <th>Additional_Info</th>\n",
       "    </tr>\n",
       "  </thead>\n",
       "  <tbody>\n",
       "    <tr>\n",
       "      <th>0</th>\n",
       "      <td>Jet Airways</td>\n",
       "      <td>6/06/2019</td>\n",
       "      <td>Delhi</td>\n",
       "      <td>Cochin</td>\n",
       "      <td>DEL → BOM → COK</td>\n",
       "      <td>17:30</td>\n",
       "      <td>04:25 07 Jun</td>\n",
       "      <td>10h 55m</td>\n",
       "      <td>1 stop</td>\n",
       "      <td>No info</td>\n",
       "    </tr>\n",
       "    <tr>\n",
       "      <th>1</th>\n",
       "      <td>IndiGo</td>\n",
       "      <td>12/05/2019</td>\n",
       "      <td>Kolkata</td>\n",
       "      <td>Banglore</td>\n",
       "      <td>CCU → MAA → BLR</td>\n",
       "      <td>06:20</td>\n",
       "      <td>10:20</td>\n",
       "      <td>4h</td>\n",
       "      <td>1 stop</td>\n",
       "      <td>No info</td>\n",
       "    </tr>\n",
       "    <tr>\n",
       "      <th>2</th>\n",
       "      <td>Jet Airways</td>\n",
       "      <td>21/05/2019</td>\n",
       "      <td>Delhi</td>\n",
       "      <td>Cochin</td>\n",
       "      <td>DEL → BOM → COK</td>\n",
       "      <td>19:15</td>\n",
       "      <td>19:00 22 May</td>\n",
       "      <td>23h 45m</td>\n",
       "      <td>1 stop</td>\n",
       "      <td>In-flight meal not included</td>\n",
       "    </tr>\n",
       "    <tr>\n",
       "      <th>3</th>\n",
       "      <td>Multiple carriers</td>\n",
       "      <td>21/05/2019</td>\n",
       "      <td>Delhi</td>\n",
       "      <td>Cochin</td>\n",
       "      <td>DEL → BOM → COK</td>\n",
       "      <td>08:00</td>\n",
       "      <td>21:00</td>\n",
       "      <td>13h</td>\n",
       "      <td>1 stop</td>\n",
       "      <td>No info</td>\n",
       "    </tr>\n",
       "    <tr>\n",
       "      <th>4</th>\n",
       "      <td>Air Asia</td>\n",
       "      <td>24/06/2019</td>\n",
       "      <td>Banglore</td>\n",
       "      <td>Delhi</td>\n",
       "      <td>BLR → DEL</td>\n",
       "      <td>23:55</td>\n",
       "      <td>02:45 25 Jun</td>\n",
       "      <td>2h 50m</td>\n",
       "      <td>non-stop</td>\n",
       "      <td>No info</td>\n",
       "    </tr>\n",
       "  </tbody>\n",
       "</table>\n",
       "</div>"
      ],
      "text/plain": [
       "             Airline Date_of_Journey    Source Destination            Route  \\\n",
       "0        Jet Airways       6/06/2019     Delhi      Cochin  DEL → BOM → COK   \n",
       "1             IndiGo      12/05/2019   Kolkata    Banglore  CCU → MAA → BLR   \n",
       "2        Jet Airways      21/05/2019     Delhi      Cochin  DEL → BOM → COK   \n",
       "3  Multiple carriers      21/05/2019     Delhi      Cochin  DEL → BOM → COK   \n",
       "4           Air Asia      24/06/2019  Banglore       Delhi        BLR → DEL   \n",
       "\n",
       "  Dep_Time  Arrival_Time Duration Total_Stops              Additional_Info  \n",
       "0    17:30  04:25 07 Jun  10h 55m      1 stop                      No info  \n",
       "1    06:20         10:20       4h      1 stop                      No info  \n",
       "2    19:15  19:00 22 May  23h 45m      1 stop  In-flight meal not included  \n",
       "3    08:00         21:00      13h      1 stop                      No info  \n",
       "4    23:55  02:45 25 Jun   2h 50m    non-stop                      No info  "
      ]
     },
     "execution_count": 5,
     "metadata": {},
     "output_type": "execute_result"
    }
   ],
   "source": [
    "test.head()"
   ]
  },
  {
   "cell_type": "markdown",
   "id": "bbc1832d",
   "metadata": {},
   "source": [
    "#### Now lets start work on training dataset by checking dimensions, description and pressence of null value in it."
   ]
  },
  {
   "cell_type": "code",
   "execution_count": 6,
   "id": "371237eb",
   "metadata": {},
   "outputs": [
    {
     "data": {
      "text/plain": [
       "(10683, 11)"
      ]
     },
     "execution_count": 6,
     "metadata": {},
     "output_type": "execute_result"
    }
   ],
   "source": [
    "train.shape"
   ]
  },
  {
   "cell_type": "code",
   "execution_count": 7,
   "id": "61f199e3",
   "metadata": {},
   "outputs": [
    {
     "data": {
      "text/html": [
       "<div>\n",
       "<style scoped>\n",
       "    .dataframe tbody tr th:only-of-type {\n",
       "        vertical-align: middle;\n",
       "    }\n",
       "\n",
       "    .dataframe tbody tr th {\n",
       "        vertical-align: top;\n",
       "    }\n",
       "\n",
       "    .dataframe thead th {\n",
       "        text-align: right;\n",
       "    }\n",
       "</style>\n",
       "<table border=\"1\" class=\"dataframe\">\n",
       "  <thead>\n",
       "    <tr style=\"text-align: right;\">\n",
       "      <th></th>\n",
       "      <th>Price</th>\n",
       "    </tr>\n",
       "  </thead>\n",
       "  <tbody>\n",
       "    <tr>\n",
       "      <th>count</th>\n",
       "      <td>10683.000000</td>\n",
       "    </tr>\n",
       "    <tr>\n",
       "      <th>mean</th>\n",
       "      <td>9087.064121</td>\n",
       "    </tr>\n",
       "    <tr>\n",
       "      <th>std</th>\n",
       "      <td>4611.359167</td>\n",
       "    </tr>\n",
       "    <tr>\n",
       "      <th>min</th>\n",
       "      <td>1759.000000</td>\n",
       "    </tr>\n",
       "    <tr>\n",
       "      <th>25%</th>\n",
       "      <td>5277.000000</td>\n",
       "    </tr>\n",
       "    <tr>\n",
       "      <th>50%</th>\n",
       "      <td>8372.000000</td>\n",
       "    </tr>\n",
       "    <tr>\n",
       "      <th>75%</th>\n",
       "      <td>12373.000000</td>\n",
       "    </tr>\n",
       "    <tr>\n",
       "      <th>max</th>\n",
       "      <td>79512.000000</td>\n",
       "    </tr>\n",
       "  </tbody>\n",
       "</table>\n",
       "</div>"
      ],
      "text/plain": [
       "              Price\n",
       "count  10683.000000\n",
       "mean    9087.064121\n",
       "std     4611.359167\n",
       "min     1759.000000\n",
       "25%     5277.000000\n",
       "50%     8372.000000\n",
       "75%    12373.000000\n",
       "max    79512.000000"
      ]
     },
     "execution_count": 7,
     "metadata": {},
     "output_type": "execute_result"
    }
   ],
   "source": [
    "train.describe()"
   ]
  },
  {
   "cell_type": "code",
   "execution_count": 8,
   "id": "f5f4127d",
   "metadata": {},
   "outputs": [
    {
     "data": {
      "text/plain": [
       "Airline            0\n",
       "Date_of_Journey    0\n",
       "Source             0\n",
       "Destination        0\n",
       "Route              1\n",
       "Dep_Time           0\n",
       "Arrival_Time       0\n",
       "Duration           0\n",
       "Total_Stops        1\n",
       "Additional_Info    0\n",
       "Price              0\n",
       "dtype: int64"
      ]
     },
     "execution_count": 8,
     "metadata": {},
     "output_type": "execute_result"
    }
   ],
   "source": [
    "train.isnull().sum()"
   ]
  },
  {
   "cell_type": "markdown",
   "id": "4941ab0a",
   "metadata": {},
   "source": [
    "From above we conclude this about train dataset :\n",
    "\n",
    "* dataset contains 10683 rows and 11 columns\n",
    "* description of dataset gives mean, min value, max value, etc of every column of dataset which contains continuous data in it and the only column which contains continuous data in it is Price.\n",
    "* there is pressence of null values in 2 columns in dataset.\n",
    "\n",
    "#### EDA\n",
    "\n",
    "1. Airline"
   ]
  },
  {
   "cell_type": "code",
   "execution_count": 9,
   "id": "4a19e478",
   "metadata": {},
   "outputs": [
    {
     "data": {
      "text/plain": [
       "array(['IndiGo', 'Air India', 'Jet Airways', 'SpiceJet',\n",
       "       'Multiple carriers', 'GoAir', 'Vistara', 'Air Asia',\n",
       "       'Vistara Premium economy', 'Jet Airways Business',\n",
       "       'Multiple carriers Premium economy', 'Trujet'], dtype=object)"
      ]
     },
     "execution_count": 9,
     "metadata": {},
     "output_type": "execute_result"
    }
   ],
   "source": [
    "train['Airline'].unique()"
   ]
  },
  {
   "cell_type": "code",
   "execution_count": 10,
   "id": "fa2bae66",
   "metadata": {},
   "outputs": [
    {
     "data": {
      "image/png": "[encoded data removed]",
      "text/plain": [
       "<Figure size 1080x1080 with 2 Axes>"
      ]
     },
     "metadata": {
      "needs_background": "light"
     },
     "output_type": "display_data"
    }
   ],
   "source": [
    "plt.figure(figsize= [15,15])\n",
    "plt.subplot(221)\n",
    "sns.countplot(train['Airline'])\n",
    "plt.xlabel('Airline')\n",
    "plt.xticks(rotation= 90)\n",
    "plt.subplot(222)\n",
    "sns.boxplot(x= 'Airline', y= 'Price', data= train)\n",
    "plt.xlabel('Airline')\n",
    "plt.xticks(rotation= 90)\n",
    "plt.ylabel('Price')\n",
    "plt.show()"
   ]
  },
  {
   "cell_type": "markdown",
   "id": "e56fe0f8",
   "metadata": {},
   "source": [
    "By looking at both graphs of Airline we conclude that most number of flights are of Jet Airways from countplot and from boxplot we conclude that outliers are present in Price of every category of Airline except one.\n",
    "\n",
    "2. Date_of_Journey"
   ]
  },
  {
   "cell_type": "code",
   "execution_count": 11,
   "id": "44dd619f",
   "metadata": {},
   "outputs": [
    {
     "data": {
      "text/plain": [
       "array(['24/03/2019', '1/05/2019', '9/06/2019', '12/05/2019', '01/03/2019',\n",
       "       '24/06/2019', '12/03/2019', '27/05/2019', '1/06/2019',\n",
       "       '18/04/2019', '9/05/2019', '24/04/2019', '3/03/2019', '15/04/2019',\n",
       "       '12/06/2019', '6/03/2019', '21/03/2019', '3/04/2019', '6/05/2019',\n",
       "       '15/05/2019', '18/06/2019', '15/06/2019', '6/04/2019',\n",
       "       '18/05/2019', '27/06/2019', '21/05/2019', '06/03/2019',\n",
       "       '3/06/2019', '15/03/2019', '3/05/2019', '9/03/2019', '6/06/2019',\n",
       "       '24/05/2019', '09/03/2019', '1/04/2019', '21/04/2019',\n",
       "       '21/06/2019', '27/03/2019', '18/03/2019', '12/04/2019',\n",
       "       '9/04/2019', '1/03/2019', '03/03/2019', '27/04/2019'], dtype=object)"
      ]
     },
     "execution_count": 11,
     "metadata": {},
     "output_type": "execute_result"
    }
   ],
   "source": [
    "train['Date_of_Journey'].unique()"
   ]
  },
  {
   "cell_type": "markdown",
   "id": "ce7031db",
   "metadata": {},
   "source": [
    "We cannot use this information exactly to plot graphs and we cannot extract year from it as it is from only one year."
   ]
  },
  {
   "cell_type": "code",
   "execution_count": 12,
   "id": "66651d43",
   "metadata": {},
   "outputs": [],
   "source": [
    "ab = []\n",
    "for i in train['Date_of_Journey']:\n",
    "    i = i[0]\n",
    "    ab.append(i)"
   ]
  },
  {
   "cell_type": "code",
   "execution_count": 13,
   "id": "1fb8b5fd",
   "metadata": {},
   "outputs": [],
   "source": [
    "train['Date_of_Journey'] = pd.Series(ab)"
   ]
  },
  {
   "cell_type": "code",
   "execution_count": 14,
   "id": "051336b9",
   "metadata": {},
   "outputs": [
    {
     "data": {
      "text/plain": [
       "array(['2', '1', '9', '0', '3', '6'], dtype=object)"
      ]
     },
     "execution_count": 14,
     "metadata": {},
     "output_type": "execute_result"
    }
   ],
   "source": [
    "train['Date_of_Journey'].unique()"
   ]
  },
  {
   "cell_type": "code",
   "execution_count": 15,
   "id": "eeee810c",
   "metadata": {},
   "outputs": [
    {
     "data": {
      "image/png": "[encoded data removed]",
      "text/plain": [
       "<Figure size 1080x1080 with 2 Axes>"
      ]
     },
     "metadata": {
      "needs_background": "light"
     },
     "output_type": "display_data"
    }
   ],
   "source": [
    "plt.figure(figsize= [15,15])\n",
    "plt.subplot(221)\n",
    "sns.countplot(train['Date_of_Journey'])\n",
    "plt.xlabel('Date_of_Journey')\n",
    "plt.xticks(rotation= 90)\n",
    "plt.subplot(222)\n",
    "sns.boxplot(x= 'Date_of_Journey', y= 'Price', data= train)\n",
    "plt.xlabel('Date_of_Journey')\n",
    "plt.xticks(rotation= 90)\n",
    "plt.ylabel('Price')\n",
    "plt.show()"
   ]
  },
  {
   "cell_type": "markdown",
   "id": "317f108f",
   "metadata": {},
   "source": [
    "By looking at both graphs of Date_of_Journey we conclude that most of the journey are being held on dates that starts with 1 from countplot and from boxplot we conclude that outliers are present in Price of every category of Date_of_Journey.\n",
    "\n",
    "3. Source"
   ]
  },
  {
   "cell_type": "code",
   "execution_count": 16,
   "id": "673478fc",
   "metadata": {},
   "outputs": [
    {
     "data": {
      "text/plain": [
       "array(['Banglore', 'Kolkata', 'Delhi', 'Chennai', 'Mumbai'], dtype=object)"
      ]
     },
     "execution_count": 16,
     "metadata": {},
     "output_type": "execute_result"
    }
   ],
   "source": [
    "train['Source'].unique()"
   ]
  },
  {
   "cell_type": "code",
   "execution_count": 17,
   "id": "00830c07",
   "metadata": {},
   "outputs": [
    {
     "data": {
      "image/png": "[encoded data removed]",
      "text/plain": [
       "<Figure size 1080x1080 with 2 Axes>"
      ]
     },
     "metadata": {
      "needs_background": "light"
     },
     "output_type": "display_data"
    }
   ],
   "source": [
    "plt.figure(figsize= [15,15])\n",
    "plt.subplot(221)\n",
    "sns.countplot(train['Source'])\n",
    "plt.xlabel('Source')\n",
    "plt.xticks(rotation= 90)\n",
    "plt.subplot(222)\n",
    "sns.boxplot(x= 'Source', y= 'Price', data= train)\n",
    "plt.xlabel('Source')\n",
    "plt.xticks(rotation= 90)\n",
    "plt.ylabel('Price')\n",
    "plt.show()"
   ]
  },
  {
   "cell_type": "markdown",
   "id": "d345d246",
   "metadata": {},
   "source": [
    "By looking at both graphs of Source we conclude that most number of flights took off from Delhi from countplot and from boxplot we conclude that outliers are present in Price of every category of Source.\n",
    "\n",
    "4. Destination"
   ]
  },
  {
   "cell_type": "code",
   "execution_count": 18,
   "id": "d38ebdff",
   "metadata": {},
   "outputs": [
    {
     "data": {
      "text/plain": [
       "array(['New Delhi', 'Banglore', 'Cochin', 'Kolkata', 'Delhi', 'Hyderabad'],\n",
       "      dtype=object)"
      ]
     },
     "execution_count": 18,
     "metadata": {},
     "output_type": "execute_result"
    }
   ],
   "source": [
    "train['Destination'].unique()"
   ]
  },
  {
   "cell_type": "code",
   "execution_count": 19,
   "id": "fe37c5b5",
   "metadata": {},
   "outputs": [
    {
     "data": {
      "image/png": "[encoded data removed]",
      "text/plain": [
       "<Figure size 1080x1080 with 2 Axes>"
      ]
     },
     "metadata": {
      "needs_background": "light"
     },
     "output_type": "display_data"
    }
   ],
   "source": [
    "plt.figure(figsize= [15,15])\n",
    "plt.subplot(221)\n",
    "sns.countplot(train['Destination'])\n",
    "plt.xlabel('Destination')\n",
    "plt.xticks(rotation= 90)\n",
    "plt.subplot(222)\n",
    "sns.boxplot(x= 'Destination', y= 'Price', data= train)\n",
    "plt.xlabel('Destination')\n",
    "plt.xticks(rotation= 90)\n",
    "plt.ylabel('Price')\n",
    "plt.show()"
   ]
  },
  {
   "cell_type": "markdown",
   "id": "496674e7",
   "metadata": {},
   "source": [
    "By looking at both graphs of Destination we conclude that most flights destination is decided as Cochin from countplot and from boxplot we conclude that outliers present in Price of every category of Destination.\n",
    "\n",
    "5. Route"
   ]
  },
  {
   "cell_type": "code",
   "execution_count": 20,
   "id": "96fc3aba",
   "metadata": {},
   "outputs": [
    {
     "data": {
      "text/plain": [
       "array(['BLR → DEL', 'CCU → IXR → BBI → BLR', 'DEL → LKO → BOM → COK',\n",
       "       'CCU → NAG → BLR', 'BLR → NAG → DEL', 'CCU → BLR',\n",
       "       'BLR → BOM → DEL', 'DEL → BOM → COK', 'DEL → BLR → COK',\n",
       "       'MAA → CCU', 'CCU → BOM → BLR', 'DEL → AMD → BOM → COK',\n",
       "       'DEL → PNQ → COK', 'DEL → CCU → BOM → COK', 'BLR → COK → DEL',\n",
       "       'DEL → IDR → BOM → COK', 'DEL → LKO → COK',\n",
       "       'CCU → GAU → DEL → BLR', 'DEL → NAG → BOM → COK',\n",
       "       'CCU → MAA → BLR', 'DEL → HYD → COK', 'CCU → HYD → BLR',\n",
       "       'DEL → COK', 'CCU → DEL → BLR', 'BLR → BOM → AMD → DEL',\n",
       "       'BOM → DEL → HYD', 'DEL → MAA → COK', 'BOM → HYD',\n",
       "       'DEL → BHO → BOM → COK', 'DEL → JAI → BOM → COK',\n",
       "       'DEL → ATQ → BOM → COK', 'DEL → JDH → BOM → COK',\n",
       "       'CCU → BBI → BOM → BLR', 'BLR → MAA → DEL',\n",
       "       'DEL → GOI → BOM → COK', 'DEL → BDQ → BOM → COK',\n",
       "       'CCU → JAI → BOM → BLR', 'CCU → BBI → BLR', 'BLR → HYD → DEL',\n",
       "       'DEL → TRV → COK', 'CCU → IXR → DEL → BLR',\n",
       "       'DEL → IXU → BOM → COK', 'CCU → IXB → BLR',\n",
       "       'BLR → BOM → JDH → DEL', 'DEL → UDR → BOM → COK',\n",
       "       'DEL → HYD → MAA → COK', 'CCU → BOM → COK → BLR',\n",
       "       'BLR → CCU → DEL', 'CCU → BOM → GOI → BLR',\n",
       "       'DEL → RPR → NAG → BOM → COK', 'DEL → HYD → BOM → COK',\n",
       "       'CCU → DEL → AMD → BLR', 'CCU → PNQ → BLR',\n",
       "       'BLR → CCU → GAU → DEL', 'CCU → DEL → COK → BLR',\n",
       "       'BLR → PNQ → DEL', 'BOM → JDH → DEL → HYD',\n",
       "       'BLR → BOM → BHO → DEL', 'DEL → AMD → COK', 'BLR → LKO → DEL',\n",
       "       'CCU → GAU → BLR', 'BOM → GOI → HYD', 'CCU → BOM → AMD → BLR',\n",
       "       'CCU → BBI → IXR → DEL → BLR', 'DEL → DED → BOM → COK',\n",
       "       'DEL → MAA → BOM → COK', 'BLR → AMD → DEL', 'BLR → VGA → DEL',\n",
       "       'CCU → JAI → DEL → BLR', 'CCU → AMD → BLR',\n",
       "       'CCU → VNS → DEL → BLR', 'BLR → BOM → IDR → DEL',\n",
       "       'BLR → BBI → DEL', 'BLR → GOI → DEL', 'BOM → AMD → ISK → HYD',\n",
       "       'BOM → DED → DEL → HYD', 'DEL → IXC → BOM → COK',\n",
       "       'CCU → PAT → BLR', 'BLR → CCU → BBI → DEL',\n",
       "       'CCU → BBI → HYD → BLR', 'BLR → BOM → NAG → DEL',\n",
       "       'BLR → CCU → BBI → HYD → DEL', 'BLR → GAU → DEL',\n",
       "       'BOM → BHO → DEL → HYD', 'BOM → JLR → HYD',\n",
       "       'BLR → HYD → VGA → DEL', 'CCU → KNU → BLR',\n",
       "       'CCU → BOM → PNQ → BLR', 'DEL → BBI → COK',\n",
       "       'BLR → VGA → HYD → DEL', 'BOM → JDH → JAI → DEL → HYD',\n",
       "       'DEL → GWL → IDR → BOM → COK', 'CCU → RPR → HYD → BLR',\n",
       "       'CCU → VTZ → BLR', 'CCU → DEL → VGA → BLR',\n",
       "       'BLR → BOM → IDR → GWL → DEL', 'CCU → DEL → COK → TRV → BLR',\n",
       "       'BOM → COK → MAA → HYD', 'BOM → NDC → HYD', 'BLR → BDQ → DEL',\n",
       "       'CCU → BOM → TRV → BLR', 'CCU → BOM → HBX → BLR',\n",
       "       'BOM → BDQ → DEL → HYD', 'BOM → CCU → HYD',\n",
       "       'BLR → TRV → COK → DEL', 'BLR → IDR → DEL',\n",
       "       'CCU → IXZ → MAA → BLR', 'CCU → GAU → IMF → DEL → BLR',\n",
       "       'BOM → GOI → PNQ → HYD', 'BOM → BLR → CCU → BBI → HYD',\n",
       "       'BOM → MAA → HYD', 'BLR → BOM → UDR → DEL',\n",
       "       'BOM → UDR → DEL → HYD', 'BLR → VGA → VTZ → DEL',\n",
       "       'BLR → HBX → BOM → BHO → DEL', 'CCU → IXA → BLR',\n",
       "       'BOM → RPR → VTZ → HYD', 'BLR → HBX → BOM → AMD → DEL',\n",
       "       'BOM → IDR → DEL → HYD', 'BOM → BLR → HYD', 'BLR → STV → DEL',\n",
       "       'CCU → IXB → DEL → BLR', 'BOM → JAI → DEL → HYD',\n",
       "       'BOM → VNS → DEL → HYD', 'BLR → HBX → BOM → NAG → DEL', nan,\n",
       "       'BLR → BOM → IXC → DEL', 'BLR → CCU → BBI → HYD → VGA → DEL',\n",
       "       'BOM → BBI → HYD'], dtype=object)"
      ]
     },
     "execution_count": 20,
     "metadata": {},
     "output_type": "execute_result"
    }
   ],
   "source": [
    "train['Route'].unique()"
   ]
  },
  {
   "cell_type": "markdown",
   "id": "2760c328",
   "metadata": {},
   "source": [
    "As there is pressence of null value in this column. So we need to fill it randomly to avoid data bias."
   ]
  },
  {
   "cell_type": "code",
   "execution_count": 21,
   "id": "996e5214",
   "metadata": {},
   "outputs": [],
   "source": [
    "train['Route'] = train['Route'].fillna(method= 'bfill')"
   ]
  },
  {
   "cell_type": "code",
   "execution_count": 22,
   "id": "63d59263",
   "metadata": {},
   "outputs": [
    {
     "data": {
      "text/plain": [
       "0"
      ]
     },
     "execution_count": 22,
     "metadata": {},
     "output_type": "execute_result"
    }
   ],
   "source": [
    "train['Route'].isnull().sum()"
   ]
  },
  {
   "cell_type": "code",
   "execution_count": 23,
   "id": "7565cbc5",
   "metadata": {},
   "outputs": [],
   "source": [
    "ab = []\n",
    "for i in train['Route']:\n",
    "    i = i[:3]\n",
    "    ab.append(i)"
   ]
  },
  {
   "cell_type": "code",
   "execution_count": 25,
   "id": "4cc49429",
   "metadata": {},
   "outputs": [],
   "source": [
    "train['Route'] = pd.Series(ab)"
   ]
  },
  {
   "cell_type": "code",
   "execution_count": 26,
   "id": "eff310b3",
   "metadata": {},
   "outputs": [
    {
     "data": {
      "text/plain": [
       "array(['BLR', 'CCU', 'DEL', 'MAA', 'BOM'], dtype=object)"
      ]
     },
     "execution_count": 26,
     "metadata": {},
     "output_type": "execute_result"
    }
   ],
   "source": [
    "train['Route'].unique()"
   ]
  },
  {
   "cell_type": "code",
   "execution_count": 27,
   "id": "eada56b1",
   "metadata": {},
   "outputs": [
    {
     "data": {
      "image/png": "[encoded data removed]",
      "text/plain": [
       "<Figure size 1080x1080 with 2 Axes>"
      ]
     },
     "metadata": {
      "needs_background": "light"
     },
     "output_type": "display_data"
    }
   ],
   "source": [
    "plt.figure(figsize= [15,15])\n",
    "plt.subplot(221)\n",
    "sns.countplot(train['Route'])\n",
    "plt.xlabel('Route')\n",
    "plt.xticks(rotation= 90)\n",
    "plt.subplot(222)\n",
    "sns.boxplot(x= 'Route', y= 'Price', data= train)\n",
    "plt.xlabel('Route')\n",
    "plt.xticks(rotation= 90)\n",
    "plt.ylabel('Price')\n",
    "plt.show()"
   ]
  },
  {
   "cell_type": "markdown",
   "id": "f8a5a3f7",
   "metadata": {},
   "source": [
    "By looking at both graphs of Route we conclude that most flights begine their route from DEL from countplot and from boxplot we conclude that outliers re present in Price of every category of Route.\n",
    "\n",
    "6. Dep_Time"
   ]
  },
  {
   "cell_type": "code",
   "execution_count": 28,
   "id": "5893eb17",
   "metadata": {},
   "outputs": [
    {
     "data": {
      "text/plain": [
       "array(['22:20', '05:50', '09:25', '18:05', '16:50', '09:00', '18:55',\n",
       "       '08:00', '08:55', '11:25', '09:45', '20:20', '11:40', '21:10',\n",
       "       '17:15', '16:40', '08:45', '14:00', '20:15', '16:00', '14:10',\n",
       "       '22:00', '04:00', '21:25', '21:50', '07:00', '07:05', '09:50',\n",
       "       '14:35', '10:35', '15:05', '14:15', '06:45', '20:55', '11:10',\n",
       "       '05:45', '19:00', '23:05', '11:00', '09:35', '21:15', '23:55',\n",
       "       '19:45', '08:50', '15:40', '06:05', '15:00', '13:55', '05:55',\n",
       "       '13:20', '05:05', '06:25', '17:30', '08:20', '19:55', '06:30',\n",
       "       '14:05', '02:00', '09:40', '08:25', '20:25', '13:15', '02:15',\n",
       "       '16:55', '20:45', '05:15', '19:50', '20:00', '06:10', '19:30',\n",
       "       '04:45', '12:55', '18:15', '17:20', '15:25', '23:00', '12:00',\n",
       "       '14:45', '11:50', '11:30', '14:40', '19:10', '06:00', '23:30',\n",
       "       '07:35', '13:05', '12:30', '15:10', '12:50', '18:25', '16:30',\n",
       "       '00:40', '06:50', '13:00', '19:15', '01:30', '17:00', '10:00',\n",
       "       '19:35', '15:30', '12:10', '16:10', '20:35', '22:25', '21:05',\n",
       "       '05:35', '05:10', '06:40', '15:15', '00:30', '08:30', '07:10',\n",
       "       '05:30', '14:25', '05:25', '10:20', '17:45', '13:10', '22:10',\n",
       "       '04:55', '17:50', '21:20', '06:20', '15:55', '20:30', '17:25',\n",
       "       '09:30', '07:30', '02:35', '10:55', '17:10', '09:10', '18:45',\n",
       "       '15:20', '22:50', '14:55', '14:20', '13:25', '22:15', '11:05',\n",
       "       '16:15', '20:10', '06:55', '19:05', '07:55', '07:45', '10:10',\n",
       "       '08:15', '11:35', '21:00', '17:55', '16:45', '18:20', '03:50',\n",
       "       '08:35', '19:20', '20:05', '17:40', '04:40', '17:35', '09:55',\n",
       "       '05:00', '18:00', '02:55', '20:40', '22:55', '22:40', '21:30',\n",
       "       '08:10', '17:05', '07:25', '15:45', '09:15', '15:50', '11:45',\n",
       "       '22:05', '18:35', '00:25', '19:40', '20:50', '22:45', '10:30',\n",
       "       '23:25', '11:55', '10:45', '11:15', '12:20', '14:30', '07:15',\n",
       "       '01:35', '18:40', '09:20', '21:55', '13:50', '01:40', '00:20',\n",
       "       '04:15', '13:45', '18:30', '06:15', '02:05', '12:15', '13:30',\n",
       "       '06:35', '10:05', '08:40', '03:05', '21:35', '16:35', '02:30',\n",
       "       '16:25', '05:40', '15:35', '13:40', '07:20', '04:50', '12:45',\n",
       "       '10:25', '12:05', '11:20', '21:40', '03:00'], dtype=object)"
      ]
     },
     "execution_count": 28,
     "metadata": {},
     "output_type": "execute_result"
    }
   ],
   "source": [
    "train['Dep_Time'].unique()"
   ]
  },
  {
   "cell_type": "code",
   "execution_count": 29,
   "id": "1bea01ec",
   "metadata": {},
   "outputs": [],
   "source": [
    "ab = []\n",
    "for i in train['Dep_Time']:\n",
    "    i = i[:2]\n",
    "    ab.append(i)"
   ]
  },
  {
   "cell_type": "code",
   "execution_count": 31,
   "id": "3ad93c2e",
   "metadata": {},
   "outputs": [],
   "source": [
    "train['Dep_Time'] = pd.Series(ab)"
   ]
  },
  {
   "cell_type": "code",
   "execution_count": 32,
   "id": "47070469",
   "metadata": {},
   "outputs": [
    {
     "data": {
      "image/png": "[encoded data removed]",
      "text/plain": [
       "<Figure size 1080x1080 with 2 Axes>"
      ]
     },
     "metadata": {
      "needs_background": "light"
     },
     "output_type": "display_data"
    }
   ],
   "source": [
    "plt.figure(figsize= [15,15])\n",
    "plt.subplot(221)\n",
    "sns.countplot(train['Dep_Time'])\n",
    "plt.xlabel('Dep_Time')\n",
    "plt.xticks(rotation= 90)\n",
    "plt.subplot(222)\n",
    "sns.boxplot(x= 'Dep_Time', y= 'Price', data= train)\n",
    "plt.xlabel('Dep_Time')\n",
    "plt.xticks(rotation= 90)\n",
    "plt.ylabel('Price')\n",
    "plt.show()"
   ]
  },
  {
   "cell_type": "markdown",
   "id": "25d1676b",
   "metadata": {},
   "source": [
    "By looking at both graphs of Dep_Time we conclude that most of flight depart at 0900 hours from airports from countplot and from boxplot we conclude that outliers are present in Price of every category of Dep_Time\n",
    "\n",
    "7. Arrival_Time"
   ]
  },
  {
   "cell_type": "code",
   "execution_count": 33,
   "id": "63db6af7",
   "metadata": {},
   "outputs": [
    {
     "data": {
      "text/plain": [
       "array(['01:10 22 Mar', '13:15', '04:25 10 Jun', ..., '06:50 10 Mar',\n",
       "       '00:05 19 Mar', '21:20 13 Mar'], dtype=object)"
      ]
     },
     "execution_count": 33,
     "metadata": {},
     "output_type": "execute_result"
    }
   ],
   "source": [
    "train['Arrival_Time'].unique()"
   ]
  },
  {
   "cell_type": "code",
   "execution_count": 34,
   "id": "36d62f18",
   "metadata": {},
   "outputs": [],
   "source": [
    "ab = []\n",
    "for i in train['Arrival_Time']:\n",
    "    i = i[:2]\n",
    "    ab.append(i)"
   ]
  },
  {
   "cell_type": "code",
   "execution_count": 36,
   "id": "eacc63f7",
   "metadata": {},
   "outputs": [],
   "source": [
    "train['Arrival_Time'] = pd.Series(ab)"
   ]
  },
  {
   "cell_type": "code",
   "execution_count": 37,
   "id": "97723579",
   "metadata": {},
   "outputs": [
    {
     "data": {
      "image/png": "[encoded data removed]",
      "text/plain": [
       "<Figure size 1080x1080 with 2 Axes>"
      ]
     },
     "metadata": {
      "needs_background": "light"
     },
     "output_type": "display_data"
    }
   ],
   "source": [
    "plt.figure(figsize= [15,15])\n",
    "plt.subplot(221)\n",
    "sns.countplot(train['Arrival_Time'])\n",
    "plt.xlabel('Arrival_Time')\n",
    "plt.xticks(rotation= 90)\n",
    "plt.subplot(222)\n",
    "sns.boxplot(x= 'Arrival_Time', y= 'Price', data= train)\n",
    "plt.xlabel('Arrival_Time')\n",
    "plt.xticks(rotation= 90)\n",
    "plt.ylabel('Price')\n",
    "plt.show()"
   ]
  },
  {
   "cell_type": "markdown",
   "id": "c611d3ea",
   "metadata": {},
   "source": [
    "By looking at both flights of Arrival_Time we cocnlude that most flights arrival time are at 1900 hours from countplot and from boxplot we conclude that outliers are present in Price of every category of Arrival_time except one category.\n",
    "\n",
    "8. Duration"
   ]
  },
  {
   "cell_type": "code",
   "execution_count": 38,
   "id": "43fbce8f",
   "metadata": {},
   "outputs": [
    {
     "data": {
      "text/plain": [
       "array(['2h 50m', '7h 25m', '19h', '5h 25m', '4h 45m', '2h 25m', '15h 30m',\n",
       "       '21h 5m', '25h 30m', '7h 50m', '13h 15m', '2h 35m', '2h 15m',\n",
       "       '12h 10m', '26h 35m', '4h 30m', '22h 35m', '23h', '20h 35m',\n",
       "       '5h 10m', '15h 20m', '2h 55m', '13h 20m', '15h 10m', '5h 45m',\n",
       "       '5h 55m', '13h 25m', '22h', '5h 30m', '10h 25m', '5h 15m',\n",
       "       '2h 30m', '6h 15m', '11h 55m', '11h 5m', '8h 30m', '22h 5m',\n",
       "       '2h 45m', '12h', '16h 5m', '19h 55m', '3h 15m', '25h 20m', '3h',\n",
       "       '16h 15m', '15h 5m', '6h 30m', '25h 5m', '12h 25m', '27h 20m',\n",
       "       '10h 15m', '10h 30m', '1h 30m', '1h 25m', '26h 30m', '7h 20m',\n",
       "       '13h 30m', '5h', '19h 5m', '14h 50m', '2h 40m', '22h 10m',\n",
       "       '9h 35m', '10h', '21h 20m', '18h 45m', '12h 20m', '18h', '9h 15m',\n",
       "       '17h 30m', '16h 35m', '12h 15m', '7h 30m', '24h', '8h 55m',\n",
       "       '7h 10m', '14h 30m', '30h 20m', '15h', '12h 45m', '10h 10m',\n",
       "       '15h 25m', '14h 5m', '20h 15m', '23h 10m', '18h 10m', '16h',\n",
       "       '2h 20m', '8h', '16h 55m', '3h 10m', '14h', '23h 50m', '21h 40m',\n",
       "       '21h 15m', '10h 50m', '8h 15m', '8h 35m', '11h 50m', '27h 35m',\n",
       "       '8h 25m', '20h 55m', '4h 50m', '8h 10m', '24h 25m', '23h 35m',\n",
       "       '25h 45m', '26h 10m', '28h 50m', '25h 15m', '9h 20m', '9h 10m',\n",
       "       '3h 5m', '11h 30m', '9h 30m', '17h 35m', '5h 5m', '25h 50m', '20h',\n",
       "       '13h', '18h 25m', '24h 10m', '4h 55m', '25h 35m', '6h 20m',\n",
       "       '18h 40m', '19h 25m', '29h 20m', '9h 5m', '10h 45m', '11h 40m',\n",
       "       '22h 55m', '37h 25m', '25h 40m', '13h 55m', '8h 40m', '23h 30m',\n",
       "       '12h 35m', '24h 15m', '1h 20m', '11h', '11h 15m', '14h 35m',\n",
       "       '12h 55m', '9h', '7h 40m', '11h 45m', '24h 55m', '17h 5m',\n",
       "       '29h 55m', '22h 15m', '14h 40m', '7h 15m', '20h 10m', '20h 45m',\n",
       "       '27h', '24h 30m', '20h 25m', '5h 35m', '14h 45m', '5h 40m',\n",
       "       '4h 5m', '15h 55m', '7h 45m', '28h 20m', '4h 20m', '3h 40m',\n",
       "       '8h 50m', '23h 45m', '24h 45m', '21h 35m', '8h 5m', '6h 25m',\n",
       "       '15h 50m', '26h 25m', '24h 50m', '26h', '23h 5m', '7h 55m',\n",
       "       '26h 20m', '23h 15m', '5h 20m', '4h', '9h 45m', '8h 20m',\n",
       "       '17h 25m', '7h 5m', '34h 5m', '6h 5m', '5h 50m', '7h', '4h 25m',\n",
       "       '13h 45m', '19h 15m', '22h 30m', '16h 25m', '13h 50m', '27h 5m',\n",
       "       '28h 10m', '4h 40m', '15h 40m', '4h 35m', '18h 30m', '38h 15m',\n",
       "       '6h 35m', '12h 30m', '11h 20m', '7h 35m', '29h 35m', '26h 55m',\n",
       "       '23h 40m', '12h 50m', '9h 50m', '21h 55m', '10h 55m', '21h 10m',\n",
       "       '20h 40m', '30h', '13h 10m', '8h 45m', '6h 10m', '17h 45m',\n",
       "       '21h 45m', '3h 55m', '17h 20m', '30h 30m', '21h 25m', '12h 40m',\n",
       "       '24h 35m', '19h 10m', '22h 40m', '14h 55m', '21h', '6h 45m',\n",
       "       '28h 40m', '9h 40m', '16h 40m', '16h 20m', '16h 45m', '1h 15m',\n",
       "       '6h 55m', '11h 25m', '14h 20m', '12h 5m', '24h 5m', '28h 15m',\n",
       "       '17h 50m', '20h 20m', '28h 5m', '10h 20m', '14h 15m', '35h 15m',\n",
       "       '35h 35m', '26h 40m', '28h', '14h 25m', '13h 5m', '37h 20m',\n",
       "       '36h 10m', '25h 55m', '35h 5m', '19h 45m', '27h 55m', '47h',\n",
       "       '10h 35m', '1h 35m', '16h 10m', '38h 20m', '6h', '16h 50m',\n",
       "       '14h 10m', '23h 20m', '17h 40m', '11h 35m', '18h 20m', '6h 40m',\n",
       "       '30h 55m', '24h 40m', '29h 50m', '28h 25m', '17h 15m', '22h 45m',\n",
       "       '25h 25m', '21h 50m', '33h 15m', '30h 15m', '3h 35m', '27h 40m',\n",
       "       '30h 25m', '18h 50m', '27h 45m', '15h 15m', '10h 40m', '26h 15m',\n",
       "       '36h 25m', '26h 50m', '15h 45m', '19h 40m', '22h 25m', '19h 35m',\n",
       "       '25h', '26h 45m', '38h', '4h 15m', '25h 10m', '18h 15m', '6h 50m',\n",
       "       '23h 55m', '17h 55m', '23h 25m', '17h 10m', '24h 20m', '28h 30m',\n",
       "       '27h 10m', '19h 20m', '15h 35m', '9h 25m', '21h 30m', '34h 25m',\n",
       "       '18h 35m', '29h 40m', '26h 5m', '29h 5m', '27h 25m', '16h 30m',\n",
       "       '11h 10m', '28h 55m', '29h 10m', '34h', '30h 40m', '30h 45m',\n",
       "       '32h 55m', '10h 5m', '35h 20m', '32h 5m', '31h 40m', '19h 50m',\n",
       "       '33h 45m', '30h 10m', '13h 40m', '19h 30m', '31h 30m', '34h 30m',\n",
       "       '27h 50m', '38h 35m', '42h 5m', '4h 10m', '39h 5m', '3h 50m', '5m',\n",
       "       '32h 30m', '31h 55m', '33h 20m', '27h 30m', '18h 55m', '9h 55m',\n",
       "       '41h 20m', '20h 5m', '31h 50m', '42h 45m', '3h 25m', '37h 10m',\n",
       "       '29h 30m', '32h 20m', '20h 50m', '40h 20m', '13h 35m', '47h 40m'],\n",
       "      dtype=object)"
      ]
     },
     "execution_count": 38,
     "metadata": {},
     "output_type": "execute_result"
    }
   ],
   "source": [
    "train['Duration'].unique()"
   ]
  },
  {
   "cell_type": "code",
   "execution_count": 41,
   "id": "1d078721",
   "metadata": {},
   "outputs": [],
   "source": [
    "ab = []\n",
    "for i in train['Duration']:\n",
    "    i = i[:3]\n",
    "    ab.append(i)"
   ]
  },
  {
   "cell_type": "code",
   "execution_count": 43,
   "id": "75360615",
   "metadata": {},
   "outputs": [],
   "source": [
    "train['Duration'] = pd.Series(ab)"
   ]
  },
  {
   "cell_type": "code",
   "execution_count": 44,
   "id": "219fc6e7",
   "metadata": {},
   "outputs": [
    {
     "data": {
      "text/plain": [
       "array(['2h ', '7h ', '19h', '5h ', '4h ', '15h', '21h', '25h', '13h',\n",
       "       '12h', '26h', '22h', '23h', '20h', '10h', '6h ', '11h', '8h ',\n",
       "       '16h', '3h ', '3h', '27h', '1h ', '5h', '14h', '9h ', '18h', '17h',\n",
       "       '24h', '30h', '8h', '28h', '29h', '37h', '9h', '4h', '34h', '7h',\n",
       "       '38h', '35h', '36h', '47h', '6h', '33h', '32h', '31h', '42h',\n",
       "       '39h', '5m', '41h', '40h'], dtype=object)"
      ]
     },
     "execution_count": 44,
     "metadata": {},
     "output_type": "execute_result"
    }
   ],
   "source": [
    "train['Duration'].unique()"
   ]
  },
  {
   "cell_type": "code",
   "execution_count": 45,
   "id": "6f3cce77",
   "metadata": {},
   "outputs": [
    {
     "data": {
      "image/png": "[encoded data removed]",
      "text/plain": [
       "<Figure size 1080x1080 with 2 Axes>"
      ]
     },
     "metadata": {
      "needs_background": "light"
     },
     "output_type": "display_data"
    }
   ],
   "source": [
    "plt.figure(figsize= [15,15])\n",
    "plt.subplot(221)\n",
    "sns.countplot(train['Duration'])\n",
    "plt.xlabel('Duration')\n",
    "plt.xticks(rotation= 90)\n",
    "plt.subplot(222)\n",
    "sns.boxplot(x= 'Duration', y= 'Price', data= train)\n",
    "plt.xlabel('Duration')\n",
    "plt.xticks(rotation= 90)\n",
    "plt.ylabel('Price')\n",
    "plt.show()"
   ]
  },
  {
   "cell_type": "markdown",
   "id": "8031c7a9",
   "metadata": {},
   "source": [
    "By looking at both graphs of Duration we conclude that most fights are of 2 hours duration from countplot and from boxplot we conclude that outliers are present in Price of every category of Duration except 5 categories.\n",
    "\n",
    "9. Total_Stops"
   ]
  },
  {
   "cell_type": "code",
   "execution_count": 46,
   "id": "de260793",
   "metadata": {},
   "outputs": [
    {
     "data": {
      "text/plain": [
       "array(['non-stop', '2 stops', '1 stop', '3 stops', nan, '4 stops'],\n",
       "      dtype=object)"
      ]
     },
     "execution_count": 46,
     "metadata": {},
     "output_type": "execute_result"
    }
   ],
   "source": [
    "train['Total_Stops'].unique()"
   ]
  },
  {
   "cell_type": "markdown",
   "id": "dd34c5d5",
   "metadata": {},
   "source": [
    "As their is null value present in column. So we need to fill it randomly to avoid data bias."
   ]
  },
  {
   "cell_type": "code",
   "execution_count": 47,
   "id": "ecd4ecf0",
   "metadata": {},
   "outputs": [],
   "source": [
    "train['Total_Stops'] = train['Total_Stops'].fillna(method= 'bfill')"
   ]
  },
  {
   "cell_type": "code",
   "execution_count": 48,
   "id": "a6d4ae4a",
   "metadata": {},
   "outputs": [
    {
     "data": {
      "text/plain": [
       "0"
      ]
     },
     "execution_count": 48,
     "metadata": {},
     "output_type": "execute_result"
    }
   ],
   "source": [
    "train['Total_Stops'].isnull().sum()"
   ]
  },
  {
   "cell_type": "code",
   "execution_count": 49,
   "id": "0d13791e",
   "metadata": {},
   "outputs": [
    {
     "data": {
      "image/png": "[encoded data removed]",
      "text/plain": [
       "<Figure size 1080x1080 with 2 Axes>"
      ]
     },
     "metadata": {
      "needs_background": "light"
     },
     "output_type": "display_data"
    }
   ],
   "source": [
    "plt.figure(figsize= [15,15])\n",
    "plt.subplot(221)\n",
    "sns.countplot(train['Total_Stops'])\n",
    "plt.xlabel('Total_Stops')\n",
    "plt.xticks(rotation= 90)\n",
    "plt.subplot(222)\n",
    "sns.boxplot(x= 'Total_Stops', y= 'Price', data= train)\n",
    "plt.xlabel('Total_Stops')\n",
    "plt.xticks(rotation= 90)\n",
    "plt.ylabel('Price')\n",
    "plt.show()"
   ]
  },
  {
   "cell_type": "markdown",
   "id": "aa986d64",
   "metadata": {},
   "source": [
    "By looking at both graphs of Total_Stops we conclude that most flights occuring are with 1 stop from countplot and from boxplot we conclude that outliers are present in Price of every category of Total_Stops except one category.\n",
    "\n",
    "10. Additional_Info"
   ]
  },
  {
   "cell_type": "code",
   "execution_count": 50,
   "id": "068f2306",
   "metadata": {},
   "outputs": [
    {
     "data": {
      "text/plain": [
       "array(['No info', 'In-flight meal not included',\n",
       "       'No check-in baggage included', '1 Short layover', 'No Info',\n",
       "       '1 Long layover', 'Change airports', 'Business class',\n",
       "       'Red-eye flight', '2 Long layover'], dtype=object)"
      ]
     },
     "execution_count": 50,
     "metadata": {},
     "output_type": "execute_result"
    }
   ],
   "source": [
    "train['Additional_Info'].unique()"
   ]
  },
  {
   "cell_type": "code",
   "execution_count": 51,
   "id": "449f2ca8",
   "metadata": {},
   "outputs": [
    {
     "data": {
      "image/png": "[encoded data removed]",
      "text/plain": [
       "<Figure size 1080x1080 with 2 Axes>"
      ]
     },
     "metadata": {
      "needs_background": "light"
     },
     "output_type": "display_data"
    }
   ],
   "source": [
    "plt.figure(figsize= [15,15])\n",
    "plt.subplot(221)\n",
    "sns.countplot(train['Additional_Info'])\n",
    "plt.xlabel('Additional_Info')\n",
    "plt.xticks(rotation= 90)\n",
    "plt.subplot(222)\n",
    "sns.boxplot(x= 'Additional_Info', y= 'Price', data= train)\n",
    "plt.xlabel('Additional_Info')\n",
    "plt.xticks(rotation= 90)\n",
    "plt.ylabel('Price')\n",
    "plt.show()"
   ]
  },
  {
   "cell_type": "markdown",
   "id": "b6c32320",
   "metadata": {},
   "source": [
    "By lloking at both graphs of Additional_Info we conclude that most flights present with No Info category Additional_Info from countplot and from boxplot we conclude that outliers are present in price of 4 categories of Additional_Info out of total 10 categories.\n",
    "\n",
    "#### Now lets change data type of every column to int or float data type."
   ]
  },
  {
   "cell_type": "code",
   "execution_count": 52,
   "id": "23162d16",
   "metadata": {},
   "outputs": [
    {
     "name": "stdout",
     "output_type": "stream",
     "text": [
      "<class 'pandas.core.frame.DataFrame'>\n",
      "RangeIndex: 10683 entries, 0 to 10682\n",
      "Data columns (total 11 columns):\n",
      " #   Column           Non-Null Count  Dtype \n",
      "---  ------           --------------  ----- \n",
      " 0   Airline          10683 non-null  object\n",
      " 1   Date_of_Journey  10683 non-null  object\n",
      " 2   Source           10683 non-null  object\n",
      " 3   Destination      10683 non-null  object\n",
      " 4   Route            10683 non-null  object\n",
      " 5   Dep_Time         10683 non-null  object\n",
      " 6   Arrival_Time     10683 non-null  object\n",
      " 7   Duration         10683 non-null  object\n",
      " 8   Total_Stops      10683 non-null  object\n",
      " 9   Additional_Info  10683 non-null  object\n",
      " 10  Price            10683 non-null  int64 \n",
      "dtypes: int64(1), object(10)\n",
      "memory usage: 918.2+ KB\n"
     ]
    }
   ],
   "source": [
    "train.info()"
   ]
  },
  {
   "cell_type": "code",
   "execution_count": 54,
   "id": "7d801606",
   "metadata": {},
   "outputs": [
    {
     "data": {
      "text/plain": [
       "12"
      ]
     },
     "execution_count": 54,
     "metadata": {},
     "output_type": "execute_result"
    }
   ],
   "source": [
    "len(train['Airline'].unique())"
   ]
  },
  {
   "cell_type": "code",
   "execution_count": 55,
   "id": "3791c9c0",
   "metadata": {},
   "outputs": [],
   "source": [
    "train['Airline'] = train['Airline'].replace(['IndiGo', 'Air India', 'Jet Airways', 'SpiceJet',\n",
    "                                             'Multiple carriers', 'GoAir', 'Vistara', 'Air Asia',\n",
    "                                             'Vistara Premium economy', 'Jet Airways Business',\n",
    "                                             'Multiple carriers Premium economy', 'Trujet'], np.arange(0,12))"
   ]
  },
  {
   "cell_type": "code",
   "execution_count": 56,
   "id": "033136d2",
   "metadata": {},
   "outputs": [
    {
     "data": {
      "text/plain": [
       "array(['2', '1', '9', '0', '3', '6'], dtype=object)"
      ]
     },
     "execution_count": 56,
     "metadata": {},
     "output_type": "execute_result"
    }
   ],
   "source": [
    "train['Date_of_Journey'].unique()"
   ]
  },
  {
   "cell_type": "code",
   "execution_count": 57,
   "id": "a3bd6bd8",
   "metadata": {},
   "outputs": [],
   "source": [
    "train['Date_of_Journey'] = pd.to_numeric(train['Date_of_Journey'])"
   ]
  },
  {
   "cell_type": "code",
   "execution_count": 59,
   "id": "517c391a",
   "metadata": {},
   "outputs": [
    {
     "data": {
      "text/plain": [
       "array(['Banglore', 'Kolkata', 'Delhi', 'Chennai', 'Mumbai'], dtype=object)"
      ]
     },
     "execution_count": 59,
     "metadata": {},
     "output_type": "execute_result"
    }
   ],
   "source": [
    "train['Source'].unique()"
   ]
  },
  {
   "cell_type": "code",
   "execution_count": 60,
   "id": "cb1b2853",
   "metadata": {},
   "outputs": [],
   "source": [
    "train['Source'] = train['Source'].replace(['Banglore', 'Kolkata', 'Delhi', 'Chennai', 'Mumbai'], np.arange(0,5))"
   ]
  },
  {
   "cell_type": "code",
   "execution_count": 61,
   "id": "2bfd85a1",
   "metadata": {},
   "outputs": [
    {
     "data": {
      "text/plain": [
       "array(['New Delhi', 'Banglore', 'Cochin', 'Kolkata', 'Delhi', 'Hyderabad'],\n",
       "      dtype=object)"
      ]
     },
     "execution_count": 61,
     "metadata": {},
     "output_type": "execute_result"
    }
   ],
   "source": [
    "train['Destination'].unique()"
   ]
  },
  {
   "cell_type": "code",
   "execution_count": 62,
   "id": "90d4ae01",
   "metadata": {},
   "outputs": [],
   "source": [
    "train['Destination'] = train['Destination'].replace(['New Delhi', 'Banglore', 'Cochin', 'Kolkata', 'Delhi', 'Hyderabad'],\n",
    "                                                   np.arange(0,6))"
   ]
  },
  {
   "cell_type": "code",
   "execution_count": 63,
   "id": "7764e8d2",
   "metadata": {},
   "outputs": [
    {
     "data": {
      "text/plain": [
       "array(['BLR', 'CCU', 'DEL', 'MAA', 'BOM'], dtype=object)"
      ]
     },
     "execution_count": 63,
     "metadata": {},
     "output_type": "execute_result"
    }
   ],
   "source": [
    "train['Route'].unique()"
   ]
  },
  {
   "cell_type": "code",
   "execution_count": 64,
   "id": "f7be84b5",
   "metadata": {},
   "outputs": [],
   "source": [
    "train['Route'] = train['Route'].replace(['BLR', 'CCU', 'DEL', 'MAA', 'BOM'], np.arange(0,5))"
   ]
  },
  {
   "cell_type": "code",
   "execution_count": 65,
   "id": "69981ce7",
   "metadata": {},
   "outputs": [
    {
     "data": {
      "text/plain": [
       "array(['22', '05', '09', '18', '16', '08', '11', '20', '21', '17', '14',\n",
       "       '04', '07', '10', '15', '06', '19', '23', '13', '02', '12', '00',\n",
       "       '01', '03'], dtype=object)"
      ]
     },
     "execution_count": 65,
     "metadata": {},
     "output_type": "execute_result"
    }
   ],
   "source": [
    "train['Dep_Time'].unique()"
   ]
  },
  {
   "cell_type": "code",
   "execution_count": 66,
   "id": "21863f01",
   "metadata": {},
   "outputs": [],
   "source": [
    "train['Dep_Time'] = pd.to_numeric(train['Dep_Time'])"
   ]
  },
  {
   "cell_type": "code",
   "execution_count": 67,
   "id": "838e6c43",
   "metadata": {},
   "outputs": [
    {
     "data": {
      "text/plain": [
       "array(['01', '13', '04', '23', '21', '11', '10', '05', '19', '22', '09',\n",
       "       '12', '06', '08', '03', '20', '16', '18', '15', '14', '00', '02',\n",
       "       '07', '17'], dtype=object)"
      ]
     },
     "execution_count": 67,
     "metadata": {},
     "output_type": "execute_result"
    }
   ],
   "source": [
    "train['Arrival_Time'].unique()"
   ]
  },
  {
   "cell_type": "code",
   "execution_count": 68,
   "id": "341773f4",
   "metadata": {},
   "outputs": [],
   "source": [
    "train['Arrival_Time'] = pd.to_numeric(train['Arrival_Time'])"
   ]
  },
  {
   "cell_type": "code",
   "execution_count": 69,
   "id": "bfc6b982",
   "metadata": {},
   "outputs": [
    {
     "data": {
      "text/plain": [
       "array(['2h ', '7h ', '19h', '5h ', '4h ', '15h', '21h', '25h', '13h',\n",
       "       '12h', '26h', '22h', '23h', '20h', '10h', '6h ', '11h', '8h ',\n",
       "       '16h', '3h ', '3h', '27h', '1h ', '5h', '14h', '9h ', '18h', '17h',\n",
       "       '24h', '30h', '8h', '28h', '29h', '37h', '9h', '4h', '34h', '7h',\n",
       "       '38h', '35h', '36h', '47h', '6h', '33h', '32h', '31h', '42h',\n",
       "       '39h', '5m', '41h', '40h'], dtype=object)"
      ]
     },
     "execution_count": 69,
     "metadata": {},
     "output_type": "execute_result"
    }
   ],
   "source": [
    "train['Duration'].unique()"
   ]
  },
  {
   "cell_type": "code",
   "execution_count": 70,
   "id": "e2667ae0",
   "metadata": {},
   "outputs": [],
   "source": [
    "train['Duration'] = train['Duration'].replace(['2h ', '7h ', '19h', '5h ', '4h ', '15h', '21h', '25h', '13h',\n",
    "                                               '12h', '26h', '22h', '23h', '20h', '10h', '6h ', '11h', '8h ',\n",
    "                                               '16h', '3h ', '3h', '27h', '1h ', '5h', '14h', '9h ', '18h', '17h',\n",
    "                                               '24h', '30h', '8h', '28h', '29h', '37h', '9h', '4h', '34h', '7h',\n",
    "                                               '38h', '35h', '36h', '47h', '6h', '33h', '32h', '31h', '42h',\n",
    "                                               '39h', '5m', '41h', '40h'],[ 2, 7, 19, 5, 4, 15, 21, 25, 13,\n",
    "                                                                            12, 26, 22, 23, 20, 10, 6, 11, 8,\n",
    "                                                                            16, 3, 3, 27, 1, 5, 14, 9, 18, 17,\n",
    "                                                                            24, 30, 8, 28, 29, 37, 9, 4, 34, 7,\n",
    "                                                                            38, 35, 36, 47, 6, 33, 32, 31, 42,\n",
    "                                                                            39, 5, 41, 40] )"
   ]
  },
  {
   "cell_type": "code",
   "execution_count": 71,
   "id": "f96c7ea2",
   "metadata": {},
   "outputs": [
    {
     "data": {
      "text/plain": [
       "array(['non-stop', '2 stops', '1 stop', '3 stops', '4 stops'],\n",
       "      dtype=object)"
      ]
     },
     "execution_count": 71,
     "metadata": {},
     "output_type": "execute_result"
    }
   ],
   "source": [
    "train['Total_Stops'].unique()"
   ]
  },
  {
   "cell_type": "code",
   "execution_count": 72,
   "id": "afbae6f5",
   "metadata": {},
   "outputs": [],
   "source": [
    "train['Total_Stops'] = train['Total_Stops'].replace(['non-stop', '2 stops', '1 stop', '3 stops', '4 stops'], np.arange(0,5))"
   ]
  },
  {
   "cell_type": "code",
   "execution_count": 75,
   "id": "8acaee89",
   "metadata": {},
   "outputs": [
    {
     "data": {
      "text/plain": [
       "array(['No info', 'In-flight meal not included',\n",
       "       'No check-in baggage included', '1 Short layover', 'No Info',\n",
       "       '1 Long layover', 'Change airports', 'Business class',\n",
       "       'Red-eye flight', '2 Long layover'], dtype=object)"
      ]
     },
     "execution_count": 75,
     "metadata": {},
     "output_type": "execute_result"
    }
   ],
   "source": [
    "train['Additional_Info'].unique()"
   ]
  },
  {
   "cell_type": "code",
   "execution_count": 76,
   "id": "da5ac24a",
   "metadata": {},
   "outputs": [],
   "source": [
    "train['Additional_Info'] = train['Additional_Info'].replace(['No info', 'In-flight meal not included',\n",
    "                                                             'No check-in baggage included', '1 Short layover', 'No Info',\n",
    "                                                             '1 Long layover', 'Change airports', 'Business class',\n",
    "                                                             'Red-eye flight', '2 Long layover'], np.arange(0,10))"
   ]
  },
  {
   "cell_type": "code",
   "execution_count": 77,
   "id": "307cc219",
   "metadata": {},
   "outputs": [
    {
     "name": "stdout",
     "output_type": "stream",
     "text": [
      "<class 'pandas.core.frame.DataFrame'>\n",
      "RangeIndex: 10683 entries, 0 to 10682\n",
      "Data columns (total 11 columns):\n",
      " #   Column           Non-Null Count  Dtype\n",
      "---  ------           --------------  -----\n",
      " 0   Airline          10683 non-null  int32\n",
      " 1   Date_of_Journey  10683 non-null  int64\n",
      " 2   Source           10683 non-null  int32\n",
      " 3   Destination      10683 non-null  int32\n",
      " 4   Route            10683 non-null  int32\n",
      " 5   Dep_Time         10683 non-null  int64\n",
      " 6   Arrival_Time     10683 non-null  int64\n",
      " 7   Duration         10683 non-null  int64\n",
      " 8   Total_Stops      10683 non-null  int32\n",
      " 9   Additional_Info  10683 non-null  int32\n",
      " 10  Price            10683 non-null  int64\n",
      "dtypes: int32(6), int64(5)\n",
      "memory usage: 667.8 KB\n"
     ]
    }
   ],
   "source": [
    "train.info()"
   ]
  },
  {
   "cell_type": "markdown",
   "id": "ffe33f24",
   "metadata": {},
   "source": [
    "#### Now plotting heatmap to check correlation"
   ]
  },
  {
   "cell_type": "code",
   "execution_count": 78,
   "id": "8e5b12c5",
   "metadata": {},
   "outputs": [
    {
     "data": {
      "image/png": "[encoded data removed]",
      "text/plain": [
       "<Figure size 720x720 with 2 Axes>"
      ]
     },
     "metadata": {
      "needs_background": "light"
     },
     "output_type": "display_data"
    }
   ],
   "source": [
    "plt.figure(figsize= [10,10])\n",
    "sns.heatmap(train.corr(), annot= True)\n",
    "plt.show()"
   ]
  },
  {
   "cell_type": "markdown",
   "id": "9811bae0",
   "metadata": {},
   "source": [
    "By looking at heatmap we can conclude that target column (Price) is having high positive correlation with Duration and Total_Stops. Also it is having high negative correlation with Destination. Also we can drop Source and route column to remove multicollinearity and make data more refine."
   ]
  },
  {
   "cell_type": "code",
   "execution_count": 80,
   "id": "e770dc00",
   "metadata": {},
   "outputs": [],
   "source": [
    "train.drop(['Source', 'Route'], axis= 1, inplace= True)"
   ]
  },
  {
   "cell_type": "markdown",
   "id": "e50b3fd7",
   "metadata": {},
   "source": [
    "#### Now lets check various model on training dataset to find the best suited model to make it work test dataset\n",
    "\n",
    "1. Linear Regression model"
   ]
  },
  {
   "cell_type": "code",
   "execution_count": 81,
   "id": "57f6c9c8",
   "metadata": {},
   "outputs": [],
   "source": [
    "X_train = train.drop(['Price'], axis= 1)\n",
    "y_train = train['Price']"
   ]
  },
  {
   "cell_type": "code",
   "execution_count": 82,
   "id": "87e28eaf",
   "metadata": {},
   "outputs": [],
   "source": [
    "scaler = StandardScaler()\n",
    "scaledX_train = scaler.fit_transform(X_train)"
   ]
  },
  {
   "cell_type": "code",
   "execution_count": 83,
   "id": "2e0d019a",
   "metadata": {},
   "outputs": [
    {
     "data": {
      "text/plain": [
       "GridSearchCV(cv=5, estimator=LinearRegression(),\n",
       "             param_grid={'n_jobs': [1, 2, 3, 4, 5]}, scoring='r2')"
      ]
     },
     "execution_count": 83,
     "metadata": {},
     "output_type": "execute_result"
    }
   ],
   "source": [
    "lr = LinearRegression()\n",
    "lrf = GridSearchCV(lr, param_grid= {'n_jobs': [1,2,3,4,5]}, scoring= 'r2', cv= 5)\n",
    "lrf.fit(scaledX_train, y_train)"
   ]
  },
  {
   "cell_type": "code",
   "execution_count": 84,
   "id": "971032ad",
   "metadata": {},
   "outputs": [
    {
     "data": {
      "text/plain": [
       "{'n_jobs': 1}"
      ]
     },
     "execution_count": 84,
     "metadata": {},
     "output_type": "execute_result"
    }
   ],
   "source": [
    "lrf.best_params_"
   ]
  },
  {
   "cell_type": "code",
   "execution_count": 85,
   "id": "ea8ae05e",
   "metadata": {},
   "outputs": [
    {
     "data": {
      "text/plain": [
       "0.3598861639206502"
      ]
     },
     "execution_count": 85,
     "metadata": {},
     "output_type": "execute_result"
    }
   ],
   "source": [
    "lrf.score(scaledX_train, y_train)"
   ]
  },
  {
   "cell_type": "markdown",
   "id": "418fc6bc",
   "metadata": {},
   "source": [
    "2. Decision Tree Regression model"
   ]
  },
  {
   "cell_type": "code",
   "execution_count": 86,
   "id": "00560c33",
   "metadata": {},
   "outputs": [
    {
     "data": {
      "text/plain": [
       "GridSearchCV(cv=5, estimator=DecisionTreeRegressor(),\n",
       "             param_grid={'max_depth': [1, 2, 3, 4, 5],\n",
       "                         'min_samples_leaf': [1, 2, 3, 4, 5],\n",
       "                         'min_samples_split': [1, 2, 3, 4, 5]},\n",
       "             scoring='r2')"
      ]
     },
     "execution_count": 86,
     "metadata": {},
     "output_type": "execute_result"
    }
   ],
   "source": [
    "dt = DecisionTreeRegressor()\n",
    "dtf = GridSearchCV(dt, param_grid= {'max_depth': [1,2,3,4,5], 'min_samples_split': [1,2,3,4,5], 'min_samples_leaf': [1,2,3,4,5]},\n",
    "                  scoring= 'r2', cv= 5)\n",
    "dtf.fit(scaledX_train, y_train)"
   ]
  },
  {
   "cell_type": "code",
   "execution_count": 87,
   "id": "47ecbbbc",
   "metadata": {},
   "outputs": [
    {
     "data": {
      "text/plain": [
       "{'max_depth': 5, 'min_samples_leaf': 2, 'min_samples_split': 2}"
      ]
     },
     "execution_count": 87,
     "metadata": {},
     "output_type": "execute_result"
    }
   ],
   "source": [
    "dtf.best_params_"
   ]
  },
  {
   "cell_type": "code",
   "execution_count": 88,
   "id": "5786ad61",
   "metadata": {},
   "outputs": [
    {
     "data": {
      "text/plain": [
       "0.616907055290982"
      ]
     },
     "execution_count": 88,
     "metadata": {},
     "output_type": "execute_result"
    }
   ],
   "source": [
    "dtf.score(scaledX_train, y_train)"
   ]
  },
  {
   "cell_type": "markdown",
   "id": "5e484491",
   "metadata": {},
   "source": [
    "3. Random Forest Regression Model"
   ]
  },
  {
   "cell_type": "code",
   "execution_count": 90,
   "id": "0c30c951",
   "metadata": {},
   "outputs": [
    {
     "data": {
      "text/plain": [
       "GridSearchCV(cv=5, estimator=RandomForestRegressor(),\n",
       "             param_grid={'max_depth': [1, 2, 3, 4, 5],\n",
       "                         'min_samples_leaf': [1, 2, 3, 4, 5],\n",
       "                         'min_samples_split': [1, 2, 3, 4, 5]},\n",
       "             scoring='r2')"
      ]
     },
     "execution_count": 90,
     "metadata": {},
     "output_type": "execute_result"
    }
   ],
   "source": [
    "rf = RandomForestRegressor()\n",
    "rff = GridSearchCV(rf, param_grid= {'max_depth': [1,2,3,4,5], 'min_samples_split': [1,2,3,4,5], 'min_samples_leaf': [1,2,3,4,5]},\n",
    "                  scoring= 'r2', cv= 5)\n",
    "rff.fit(scaledX_train, y_train)"
   ]
  },
  {
   "cell_type": "code",
   "execution_count": 91,
   "id": "c6fd8a15",
   "metadata": {},
   "outputs": [
    {
     "data": {
      "text/plain": [
       "{'max_depth': 5, 'min_samples_leaf': 1, 'min_samples_split': 3}"
      ]
     },
     "execution_count": 91,
     "metadata": {},
     "output_type": "execute_result"
    }
   ],
   "source": [
    "rff.best_params_"
   ]
  },
  {
   "cell_type": "code",
   "execution_count": 92,
   "id": "280aeb41",
   "metadata": {},
   "outputs": [
    {
     "data": {
      "text/plain": [
       "0.6437268096853623"
      ]
     },
     "execution_count": 92,
     "metadata": {},
     "output_type": "execute_result"
    }
   ],
   "source": [
    "rff.score(scaledX_train, y_train)"
   ]
  },
  {
   "cell_type": "markdown",
   "id": "d950b91e",
   "metadata": {},
   "source": [
    "4. Bagging Regression Model"
   ]
  },
  {
   "cell_type": "code",
   "execution_count": 94,
   "id": "a9db8427",
   "metadata": {},
   "outputs": [
    {
     "data": {
      "text/plain": [
       "GridSearchCV(cv=5,\n",
       "             estimator=BaggingRegressor(base_estimator=DecisionTreeRegressor()),\n",
       "             param_grid={'max_features': [1, 2, 3, 4, 5],\n",
       "                         'max_samples': [1, 2, 3, 4, 5],\n",
       "                         'n_estimators': [10, 20, 30, 40, 50]},\n",
       "             scoring='r2')"
      ]
     },
     "execution_count": 94,
     "metadata": {},
     "output_type": "execute_result"
    }
   ],
   "source": [
    "br = BaggingRegressor(base_estimator= DecisionTreeRegressor())\n",
    "brf = GridSearchCV(br, param_grid= {'n_estimators': [10,20,30,40,50], 'max_samples': [1,2,3,4,5], 'max_features': [1,2,3,4,5]},\n",
    "                  scoring= 'r2', cv= 5)\n",
    "brf.fit(scaledX_train, y_train)"
   ]
  },
  {
   "cell_type": "code",
   "execution_count": 95,
   "id": "b51c63f9",
   "metadata": {},
   "outputs": [
    {
     "data": {
      "text/plain": [
       "{'max_features': 3, 'max_samples': 5, 'n_estimators': 20}"
      ]
     },
     "execution_count": 95,
     "metadata": {},
     "output_type": "execute_result"
    }
   ],
   "source": [
    "brf.best_params_"
   ]
  },
  {
   "cell_type": "code",
   "execution_count": 96,
   "id": "1f7c28d1",
   "metadata": {},
   "outputs": [
    {
     "data": {
      "text/plain": [
       "0.25636970324866515"
      ]
     },
     "execution_count": 96,
     "metadata": {},
     "output_type": "execute_result"
    }
   ],
   "source": [
    "brf.score(scaledX_train, y_train)"
   ]
  },
  {
   "cell_type": "markdown",
   "id": "fddf0841",
   "metadata": {},
   "source": [
    "5. Supprt Vector Regression Model"
   ]
  },
  {
   "cell_type": "code",
   "execution_count": 97,
   "id": "199473c2",
   "metadata": {},
   "outputs": [
    {
     "data": {
      "text/plain": [
       "GridSearchCV(cv=5, estimator=SVR(),\n",
       "             param_grid={'C': [1, 2, 3, 4, 5], 'kernel': ['rbf', 'linear']},\n",
       "             scoring='r2')"
      ]
     },
     "execution_count": 97,
     "metadata": {},
     "output_type": "execute_result"
    }
   ],
   "source": [
    "sv = SVR()\n",
    "svf = GridSearchCV(sv, param_grid= {'kernel': ['rbf', 'linear'], 'C': [1,2,3,4,5]}, scoring= 'r2', cv= 5)\n",
    "svf.fit(scaledX_train, y_train)"
   ]
  },
  {
   "cell_type": "code",
   "execution_count": 98,
   "id": "9624cb19",
   "metadata": {},
   "outputs": [
    {
     "data": {
      "text/plain": [
       "{'C': 4, 'kernel': 'linear'}"
      ]
     },
     "execution_count": 98,
     "metadata": {},
     "output_type": "execute_result"
    }
   ],
   "source": [
    "svf.best_params_"
   ]
  },
  {
   "cell_type": "code",
   "execution_count": 99,
   "id": "e6822e6a",
   "metadata": {},
   "outputs": [
    {
     "data": {
      "text/plain": [
       "0.3277794283626837"
      ]
     },
     "execution_count": 99,
     "metadata": {},
     "output_type": "execute_result"
    }
   ],
   "source": [
    "svf.score(scaledX_train, y_train)"
   ]
  },
  {
   "cell_type": "markdown",
   "id": "7856f68a",
   "metadata": {},
   "source": [
    "#### By looking at performances of all models we can conclude that best suited model for the dataset is Random Forest Regression model. Now we need to prepare test dataset to make prediction."
   ]
  },
  {
   "cell_type": "code",
   "execution_count": 100,
   "id": "1e4f80eb",
   "metadata": {},
   "outputs": [
    {
     "data": {
      "text/html": [
       "<div>\n",
       "<style scoped>\n",
       "    .dataframe tbody tr th:only-of-type {\n",
       "        vertical-align: middle;\n",
       "    }\n",
       "\n",
       "    .dataframe tbody tr th {\n",
       "        vertical-align: top;\n",
       "    }\n",
       "\n",
       "    .dataframe thead th {\n",
       "        text-align: right;\n",
       "    }\n",
       "</style>\n",
       "<table border=\"1\" class=\"dataframe\">\n",
       "  <thead>\n",
       "    <tr style=\"text-align: right;\">\n",
       "      <th></th>\n",
       "      <th>Airline</th>\n",
       "      <th>Date_of_Journey</th>\n",
       "      <th>Source</th>\n",
       "      <th>Destination</th>\n",
       "      <th>Route</th>\n",
       "      <th>Dep_Time</th>\n",
       "      <th>Arrival_Time</th>\n",
       "      <th>Duration</th>\n",
       "      <th>Total_Stops</th>\n",
       "      <th>Additional_Info</th>\n",
       "    </tr>\n",
       "  </thead>\n",
       "  <tbody>\n",
       "    <tr>\n",
       "      <th>0</th>\n",
       "      <td>Jet Airways</td>\n",
       "      <td>6/06/2019</td>\n",
       "      <td>Delhi</td>\n",
       "      <td>Cochin</td>\n",
       "      <td>DEL → BOM → COK</td>\n",
       "      <td>17:30</td>\n",
       "      <td>04:25 07 Jun</td>\n",
       "      <td>10h 55m</td>\n",
       "      <td>1 stop</td>\n",
       "      <td>No info</td>\n",
       "    </tr>\n",
       "    <tr>\n",
       "      <th>1</th>\n",
       "      <td>IndiGo</td>\n",
       "      <td>12/05/2019</td>\n",
       "      <td>Kolkata</td>\n",
       "      <td>Banglore</td>\n",
       "      <td>CCU → MAA → BLR</td>\n",
       "      <td>06:20</td>\n",
       "      <td>10:20</td>\n",
       "      <td>4h</td>\n",
       "      <td>1 stop</td>\n",
       "      <td>No info</td>\n",
       "    </tr>\n",
       "    <tr>\n",
       "      <th>2</th>\n",
       "      <td>Jet Airways</td>\n",
       "      <td>21/05/2019</td>\n",
       "      <td>Delhi</td>\n",
       "      <td>Cochin</td>\n",
       "      <td>DEL → BOM → COK</td>\n",
       "      <td>19:15</td>\n",
       "      <td>19:00 22 May</td>\n",
       "      <td>23h 45m</td>\n",
       "      <td>1 stop</td>\n",
       "      <td>In-flight meal not included</td>\n",
       "    </tr>\n",
       "    <tr>\n",
       "      <th>3</th>\n",
       "      <td>Multiple carriers</td>\n",
       "      <td>21/05/2019</td>\n",
       "      <td>Delhi</td>\n",
       "      <td>Cochin</td>\n",
       "      <td>DEL → BOM → COK</td>\n",
       "      <td>08:00</td>\n",
       "      <td>21:00</td>\n",
       "      <td>13h</td>\n",
       "      <td>1 stop</td>\n",
       "      <td>No info</td>\n",
       "    </tr>\n",
       "    <tr>\n",
       "      <th>4</th>\n",
       "      <td>Air Asia</td>\n",
       "      <td>24/06/2019</td>\n",
       "      <td>Banglore</td>\n",
       "      <td>Delhi</td>\n",
       "      <td>BLR → DEL</td>\n",
       "      <td>23:55</td>\n",
       "      <td>02:45 25 Jun</td>\n",
       "      <td>2h 50m</td>\n",
       "      <td>non-stop</td>\n",
       "      <td>No info</td>\n",
       "    </tr>\n",
       "  </tbody>\n",
       "</table>\n",
       "</div>"
      ],
      "text/plain": [
       "             Airline Date_of_Journey    Source Destination            Route  \\\n",
       "0        Jet Airways       6/06/2019     Delhi      Cochin  DEL → BOM → COK   \n",
       "1             IndiGo      12/05/2019   Kolkata    Banglore  CCU → MAA → BLR   \n",
       "2        Jet Airways      21/05/2019     Delhi      Cochin  DEL → BOM → COK   \n",
       "3  Multiple carriers      21/05/2019     Delhi      Cochin  DEL → BOM → COK   \n",
       "4           Air Asia      24/06/2019  Banglore       Delhi        BLR → DEL   \n",
       "\n",
       "  Dep_Time  Arrival_Time Duration Total_Stops              Additional_Info  \n",
       "0    17:30  04:25 07 Jun  10h 55m      1 stop                      No info  \n",
       "1    06:20         10:20       4h      1 stop                      No info  \n",
       "2    19:15  19:00 22 May  23h 45m      1 stop  In-flight meal not included  \n",
       "3    08:00         21:00      13h      1 stop                      No info  \n",
       "4    23:55  02:45 25 Jun   2h 50m    non-stop                      No info  "
      ]
     },
     "execution_count": 100,
     "metadata": {},
     "output_type": "execute_result"
    }
   ],
   "source": [
    "test.head()"
   ]
  },
  {
   "cell_type": "code",
   "execution_count": 102,
   "id": "aed3ef8c",
   "metadata": {},
   "outputs": [
    {
     "data": {
      "text/plain": [
       "Airline            0\n",
       "Date_of_Journey    0\n",
       "Source             0\n",
       "Destination        0\n",
       "Route              0\n",
       "Dep_Time           0\n",
       "Arrival_Time       0\n",
       "Duration           0\n",
       "Total_Stops        0\n",
       "Additional_Info    0\n",
       "dtype: int64"
      ]
     },
     "execution_count": 102,
     "metadata": {},
     "output_type": "execute_result"
    }
   ],
   "source": [
    "test.isnull().sum()"
   ]
  },
  {
   "cell_type": "markdown",
   "id": "17917cc9",
   "metadata": {},
   "source": [
    "#### Now we need to drop those columns that we dropped in train dataset"
   ]
  },
  {
   "cell_type": "code",
   "execution_count": 103,
   "id": "1c0ecdb5",
   "metadata": {},
   "outputs": [],
   "source": [
    "test.drop(['Source', 'Route'], axis= 1, inplace= True)"
   ]
  },
  {
   "cell_type": "markdown",
   "id": "f6843946",
   "metadata": {},
   "source": [
    "#### Now we need to change data types of every column to int or float data type of dataset."
   ]
  },
  {
   "cell_type": "code",
   "execution_count": 106,
   "id": "9f2418c7",
   "metadata": {},
   "outputs": [
    {
     "data": {
      "text/plain": [
       "array(['Jet Airways', 'IndiGo', 'Multiple carriers', 'Air Asia',\n",
       "       'Air India', 'Vistara', 'SpiceJet', 'Vistara Premium economy',\n",
       "       'GoAir', 'Multiple carriers Premium economy',\n",
       "       'Jet Airways Business'], dtype=object)"
      ]
     },
     "execution_count": 106,
     "metadata": {},
     "output_type": "execute_result"
    }
   ],
   "source": [
    "test['Airline'].unique()"
   ]
  },
  {
   "cell_type": "code",
   "execution_count": 107,
   "id": "da46876f",
   "metadata": {},
   "outputs": [],
   "source": [
    "test['Airline'] = test['Airline'].replace(['Jet Airways', 'IndiGo', 'Multiple carriers', 'Air Asia',\n",
    "                                           'Air India', 'Vistara', 'SpiceJet', 'Vistara Premium economy',\n",
    "                                           'GoAir', 'Multiple carriers Premium economy',\n",
    "                                           'Jet Airways Business'], np.arange(0,11))"
   ]
  },
  {
   "cell_type": "code",
   "execution_count": 108,
   "id": "b4018579",
   "metadata": {},
   "outputs": [
    {
     "data": {
      "text/plain": [
       "array(['6/06/2019', '12/05/2019', '21/05/2019', '24/06/2019',\n",
       "       '12/06/2019', '12/03/2019', '1/05/2019', '15/03/2019',\n",
       "       '18/05/2019', '21/03/2019', '15/06/2019', '15/05/2019',\n",
       "       '3/06/2019', '06/03/2019', '24/03/2019', '6/03/2019', '9/05/2019',\n",
       "       '18/03/2019', '6/04/2019', '1/06/2019', '3/03/2019', '27/03/2019',\n",
       "       '9/06/2019', '3/05/2019', '1/04/2019', '18/06/2019', '15/04/2019',\n",
       "       '6/05/2019', '9/03/2019', '3/04/2019', '27/06/2019', '21/06/2019',\n",
       "       '21/04/2019', '18/04/2019', '9/04/2019', '24/05/2019',\n",
       "       '01/03/2019', '09/03/2019', '27/05/2019', '03/03/2019',\n",
       "       '27/04/2019', '1/03/2019', '24/04/2019', '12/04/2019'],\n",
       "      dtype=object)"
      ]
     },
     "execution_count": 108,
     "metadata": {},
     "output_type": "execute_result"
    }
   ],
   "source": [
    "test['Date_of_Journey'].unique()"
   ]
  },
  {
   "cell_type": "code",
   "execution_count": 109,
   "id": "3a732f50",
   "metadata": {},
   "outputs": [],
   "source": [
    "ab = []\n",
    "for i in test['Date_of_Journey']:\n",
    "    i = i[0]\n",
    "    ab.append(i)"
   ]
  },
  {
   "cell_type": "code",
   "execution_count": 111,
   "id": "4efad673",
   "metadata": {},
   "outputs": [],
   "source": [
    "test['Date_of_Journey'] = pd.Series(ab)"
   ]
  },
  {
   "cell_type": "code",
   "execution_count": 112,
   "id": "da69afe7",
   "metadata": {},
   "outputs": [],
   "source": [
    "test['Date_of_Journey'] = pd.to_numeric(test['Date_of_Journey'])"
   ]
  },
  {
   "cell_type": "code",
   "execution_count": 113,
   "id": "1b6cd95c",
   "metadata": {},
   "outputs": [
    {
     "data": {
      "text/plain": [
       "array(['Cochin', 'Banglore', 'Delhi', 'New Delhi', 'Hyderabad', 'Kolkata'],\n",
       "      dtype=object)"
      ]
     },
     "execution_count": 113,
     "metadata": {},
     "output_type": "execute_result"
    }
   ],
   "source": [
    "test['Destination'].unique()"
   ]
  },
  {
   "cell_type": "code",
   "execution_count": 114,
   "id": "53c48521",
   "metadata": {},
   "outputs": [],
   "source": [
    "test['Destination'] = test['Destination'].replace(['New Delhi', 'Banglore', 'Cochin', 'Kolkata', 'Delhi', 'Hyderabad'],\n",
    "                                                   np.arange(0,6))"
   ]
  },
  {
   "cell_type": "code",
   "execution_count": 115,
   "id": "1042c74c",
   "metadata": {},
   "outputs": [
    {
     "data": {
      "text/plain": [
       "array(['17:30', '06:20', '19:15', '08:00', '23:55', '18:15', '07:30',\n",
       "       '15:15', '10:10', '16:30', '13:55', '06:50', '09:00', '05:45',\n",
       "       '21:25', '13:15', '09:55', '22:55', '10:45', '20:00', '05:30',\n",
       "       '21:05', '16:00', '14:00', '22:50', '19:50', '07:10', '05:55',\n",
       "       '16:55', '18:55', '10:20', '17:10', '13:00', '22:45', '21:00',\n",
       "       '17:45', '09:25', '14:05', '09:45', '02:00', '11:40', '17:00',\n",
       "       '06:00', '07:05', '16:45', '19:40', '03:50', '21:15', '11:30',\n",
       "       '12:00', '21:50', '05:50', '07:55', '09:10', '08:20', '09:30',\n",
       "       '10:00', '14:55', '22:10', '07:00', '19:55', '19:30', '15:00',\n",
       "       '05:35', '06:40', '17:15', '21:20', '07:35', '06:55', '17:35',\n",
       "       '11:15', '20:15', '20:25', '05:40', '15:05', '20:55', '14:25',\n",
       "       '19:45', '08:25', '22:00', '21:10', '02:15', '08:30', '20:40',\n",
       "       '14:15', '14:35', '11:10', '19:35', '15:20', '06:10', '22:20',\n",
       "       '08:35', '14:40', '09:40', '01:30', '08:50', '19:05', '08:55',\n",
       "       '11:35', '04:55', '14:10', '09:35', '17:50', '15:45', '02:55',\n",
       "       '00:30', '19:00', '23:05', '11:25', '05:25', '05:15', '12:50',\n",
       "       '06:45', '18:05', '13:25', '09:20', '02:30', '23:30', '07:45',\n",
       "       '11:55', '20:20', '08:15', '17:25', '09:50', '15:50', '10:35',\n",
       "       '14:30', '06:30', '11:50', '19:10', '20:45', '15:10', '16:50',\n",
       "       '16:35', '10:30', '04:45', '04:00', '04:40', '18:25', '15:35',\n",
       "       '19:20', '13:10', '13:05', '09:15', '20:30', '12:30', '11:00',\n",
       "       '08:45', '07:20', '14:45', '10:55', '05:00', '15:55', '15:30',\n",
       "       '20:05', '18:45', '16:10', '23:25', '16:40', '07:15', '13:20',\n",
       "       '06:05', '20:50', '11:20', '06:15', '18:00', '18:40', '12:55',\n",
       "       '05:10', '22:05', '07:25', '05:05', '22:30', '04:50', '18:20',\n",
       "       '17:40', '00:40', '11:45', '22:15', '15:40', '14:20', '20:35',\n",
       "       '13:30', '02:35', '17:05', '17:55', '21:30', '22:40', '08:10',\n",
       "       '06:25', '20:10', '18:35', '13:50', '00:25', '01:35', '16:15',\n",
       "       '10:25', '12:10', '23:00'], dtype=object)"
      ]
     },
     "execution_count": 115,
     "metadata": {},
     "output_type": "execute_result"
    }
   ],
   "source": [
    "test['Dep_Time'].unique()"
   ]
  },
  {
   "cell_type": "code",
   "execution_count": 116,
   "id": "1d644195",
   "metadata": {},
   "outputs": [],
   "source": [
    "ab = []\n",
    "for i in test['Dep_Time']:\n",
    "    i = i[:2]\n",
    "    ab.append(i)"
   ]
  },
  {
   "cell_type": "code",
   "execution_count": 118,
   "id": "a482a9d0",
   "metadata": {},
   "outputs": [],
   "source": [
    "test['Dep_Time'] = pd.Series(ab)"
   ]
  },
  {
   "cell_type": "code",
   "execution_count": 119,
   "id": "d02cf790",
   "metadata": {},
   "outputs": [],
   "source": [
    "test['Dep_Time'] = pd.to_numeric(test['Dep_Time'])"
   ]
  },
  {
   "cell_type": "code",
   "execution_count": 120,
   "id": "f3dbb89a",
   "metadata": {},
   "outputs": [
    {
     "data": {
      "text/plain": [
       "array(['04:25 07 Jun', '10:20', '19:00 22 May', '21:00', '02:45 25 Jun',\n",
       "       '12:35 13 Jun', '22:35', '20:30', '12:55', '18:50 22 Mar', '16:10',\n",
       "       '19:15', '10:25', '12:35 04 Jun', '08:15 07 Mar', '22:30', '22:10',\n",
       "       '04:25 13 Jun', '08:15 13 Mar', '01:35 07 Mar', '10:05 10 May',\n",
       "       '09:00 16 Mar', '19:00', '23:55', '04:25 22 Mar', '17:45',\n",
       "       '01:20 04 Mar', '01:35 28 Mar', '12:35', '22:50', '08:35', '23:00',\n",
       "       '12:00 10 May', '19:40', '01:30 16 May', '00:15 10 Jun',\n",
       "       '07:40 16 Jun', '02:15 02 May', '20:05', '18:50 04 Mar', '15:25',\n",
       "       '22:35 02 Apr', '13:45 13 May', '19:50', '16:20 25 Mar', '11:25',\n",
       "       '12:00', '18:10', '07:45', '19:10', '12:10', '18:50 07 May',\n",
       "       '09:25 10 Mar', '22:25', '22:20', '15:50', '07:25', '00:15 13 Jun',\n",
       "       '18:50', '13:30', '19:00 19 May', '21:50', '15:45', '10:40',\n",
       "       '11:20', '12:20', '05:25 02 May', '17:50', '10:05 19 May',\n",
       "       '01:00 25 Jun', '09:05 10 Jun', '01:30 10 May', '10:35',\n",
       "       '08:15 10 May', '08:15 19 May', '18:15 19 May', '19:15 02 Jun',\n",
       "       '20:45', '07:40', '04:25 16 Jun', '07:05', '18:30', '10:10',\n",
       "       '01:35 10 Mar', '19:45', '10:05 13 Jun', '00:45 07 Mar', '21:20',\n",
       "       '09:30', '22:15', '19:15 16 May', '18:25', '01:30 16 Apr',\n",
       "       '04:25 07 Mar', '20:25 19 May', '10:25 13 Mar', '14:05', '08:45',\n",
       "       '20:20', '12:35 10 May', '16:55', '19:35', '03:35 07 May', '12:45',\n",
       "       '16:20', '05:25 02 Apr', '10:50 16 Mar', '22:35 25 Mar', '11:30',\n",
       "       '09:25 28 May', '00:15 19 May', '16:45', '04:40 10 Jun',\n",
       "       '08:15 16 May', '00:05 22 Jun', '19:55', '12:00 13 May', '21:05',\n",
       "       '15:30', '17:55', '08:55', '00:40 19 Mar', '17:15', '17:05',\n",
       "       '00:15 07 Mar', '04:15', '10:35 16 Mar', '18:30 25 Mar', '20:35',\n",
       "       '00:40 25 Jun', '21:55', '10:55 10 Jun', '01:30 04 Jun',\n",
       "       '00:40 28 Jun', '09:25 07 Mar', '14:45', '19:15 07 Jun', '14:00',\n",
       "       '11:10 07 Jun', '04:25 22 May', '07:55 25 Mar', '10:45 25 May',\n",
       "       '17:10', '11:10 16 May', '10:55 07 Jun', '08:15 02 May',\n",
       "       '07:40 07 Jun', '16:50 07 Mar', '01:30 28 Jun', '01:30 07 Jun',\n",
       "       '15:35', '22:05', '09:45 25 May', '01:20 02 Apr', '19:50 16 May',\n",
       "       '04:20', '08:15 02 Mar', '03:25', '20:25', '00:55 13 Mar',\n",
       "       '11:05 25 May', '14:25 10 May', '23:25', '01:30 10 Jun', '09:40',\n",
       "       '01:30 25 May', '04:25 04 Mar', '19:15 28 May', '21:10',\n",
       "       '12:35 28 Jun', '14:15', '08:55 19 May', '04:00', '20:40',\n",
       "       '02:20 07 Mar', '12:35 28 May', '00:15 25 Jun', '23:35',\n",
       "       '05:25 13 Jun', '14:20', '00:55 10 Apr', '16:20 07 May',\n",
       "       '04:25 04 Jun', '09:25 02 Mar', '20:20 10 May', '22:55', '09:35',\n",
       "       '10:05', '08:15 22 Apr', '13:55 13 Mar', '09:25 02 Jun', '18:00',\n",
       "       '08:55 25 May', '12:00 02 Apr', '11:10 16 Mar', '23:50',\n",
       "       '01:30 19 May', '09:10 13 Mar', '14:25 07 Jun', '17:20',\n",
       "       '08:55 10 May', '16:25', '07:40 10 Jun', '04:25 10 Jun', '13:15',\n",
       "       '11:35 07 Mar', '10:15 19 Mar', '19:00 16 Jun', '10:50 25 Mar',\n",
       "       '07:10 22 May', '18:15 13 May', '23:30', '19:15 10 Jun',\n",
       "       '05:35 10 May', '13:45 07 Jun', '18:15 22 May', '19:00 07 May',\n",
       "       '22:40', '01:30 13 Jun', '23:35 16 May', '21:20 16 Mar',\n",
       "       '09:05 22 May', '08:30', '07:40 16 Mar', '04:25 28 Mar',\n",
       "       '19:00 02 Apr', '01:30 02 Jun', '04:25', '19:00 28 Jun',\n",
       "       '01:00 07 Jun', '18:50 10 Mar', '07:45 22 May', '06:50',\n",
       "       '08:15 25 May', '13:55', '01:20 16 Apr', '07:15', '01:35 04 Mar',\n",
       "       '08:15 13 May', '00:40 02 May', '18:00 25 May', '04:25 02 Jun',\n",
       "       '10:25 16 Mar', '23:40', '23:45', '19:00 28 May', '04:40 02 May',\n",
       "       '00:45 08 Mar', '12:35 16 Jun', '10:30', '12:35 10 Apr', '14:30',\n",
       "       '19:25', '04:25 28 May', '04:25 08 Mar', '13:45 10 Jun',\n",
       "       '05:35 25 Mar', '17:40', '04:25 19 May', '09:25 07 Jun', '23:20',\n",
       "       '18:50 10 May', '09:20 07 May', '07:35', '23:35 02 Apr',\n",
       "       '22:05 13 May', '01:30 16 Jun', '13:40', '10:05 25 May', '12:30',\n",
       "       '17:20 13 Jun', '18:15', '07:40 28 Jun', '10:15', '16:20 13 Jun',\n",
       "       '09:30 13 Mar', '19:15 22 Mar', '18:05', '00:40 10 Jun', '21:45',\n",
       "       '20:45 07 Jun', '21:40', '00:15 07 May', '12:35 25 Jun',\n",
       "       '18:15 07 Jun', '02:10 16 Mar', '06:35 07 May', '19:45 07 Mar',\n",
       "       '00:20 28 Mar', '21:25', '16:15 19 May', '00:05 19 Jun',\n",
       "       '07:40 04 Jun', '19:15 28 Mar', '19:00 13 Jun', '01:30 28 May',\n",
       "       '13:20', '09:25 04 Jun', '15:55', '09:45 07 May', '07:40 19 Mar',\n",
       "       '12:00 25 Mar', '01:10 04 Mar', '08:50', '18:50 13 May', '09:20',\n",
       "       '23:15', '09:25 28 Mar', '09:20 10 Jun', '18:00 19 May',\n",
       "       '10:55 22 May', '18:50 13 Jun', '04:40 16 May', '04:25 10 Mar',\n",
       "       '04:40 13 May', '01:20 25 Mar', '10:45 07 Jun', '19:45 28 Mar',\n",
       "       '04:25 23 Mar', '06:50 16 Jun', '13:25', '18:40', '07:40 22 Mar',\n",
       "       '08:15 13 Jun', '10:55 13 Jun', '23:00 16 Mar', '00:05 04 Jun',\n",
       "       '16:15', '01:30 22 May', '23:25 07 May', '07:40 02 Jun', '18:20',\n",
       "       '16:20 25 May', '11:05 13 Jun', '00:05 16 Apr', '21:35',\n",
       "       '19:15 16 Jun', '04:25 11 Mar', '15:15', '05:25 19 May',\n",
       "       '07:40 28 May', '09:20 16 May', '08:00', '00:45 02 Mar',\n",
       "       '01:20 13 May', '01:20 07 Jun', '17:35', '00:25 22 Mar',\n",
       "       '00:05 13 Jun', '12:00 25 May', '18:15 16 May', '13:35',\n",
       "       '19:15 07 Mar', '04:25 29 Jun', '10:55 19 May', '23:25 10 May',\n",
       "       '19:40 25 Mar', '11:25 07 Mar', '11:50', '10:40 25 Mar', '09:50',\n",
       "       '15:05 07 May', '05:25 13 May', '00:55 22 May', '13:00',\n",
       "       '12:00 13 Jun', '12:35 22 May', '13:45 13 Jun', '10:55 25 May',\n",
       "       '04:40 07 Jun', '00:40 19 May', '07:40 10 Mar', '12:05',\n",
       "       '07:40 19 May', '04:45 25 Mar', '08:55 02 May', '22:40 02 May',\n",
       "       '04:25 25 Jun', '09:25 10 Jun', '18:05 13 Mar', '04:25 29 May',\n",
       "       '00:05 22 Apr', '01:35 22 Mar', '00:05 02 May', '07:55 13 May',\n",
       "       '19:00 02 Jun', '19:15 13 Jun', '01:00 10 May', '23:45 13 Mar',\n",
       "       '09:10 07 Mar', '08:15 04 Mar', '07:40 22 May', '04:40 07 May',\n",
       "       '04:25 10 May', '10:05 02 May', '01:00 22 Apr', '20:50',\n",
       "       '02:20 22 May', '16:30 07 Mar', '00:05 07 May', '01:30 25 Jun',\n",
       "       '19:10 02 Apr', '10:00 02 Apr', '19:10 13 May', '01:00 16 Jun',\n",
       "       '11:10 25 May', '07:40 07 Mar', '08:15 28 Jun', '09:45 02 May',\n",
       "       '04:40 22 May', '12:00 22 May', '09:15 07 Mar', '09:20 02 Apr',\n",
       "       '19:15 10 Mar', '00:10 04 Mar', '19:00 10 May', '01:20 07 May',\n",
       "       '00:20 04 Jun', '00:15 02 Apr', '09:10', '02:20 02 Apr',\n",
       "       '18:15 13 Jun', '19:00 10 Apr', '11:10 10 May', '18:00 02 May',\n",
       "       '15:05 02 Apr', '10:25 19 Mar', '05:25 07 May', '09:25 25 Jun',\n",
       "       '09:25 07 Apr', '00:50 04 Apr', '00:40 19 Jun', '09:20 13 May',\n",
       "       '05:25 10 Jun', '20:00', '11:35 02 Mar', '00:40 13 May',\n",
       "       '20:45 07 May', '09:20 25 May', '09:20 10 May', '00:05 13 Apr',\n",
       "       '05:05 16 Mar', '11:25 02 Mar', '12:30 10 May', '09:25 16 Jun',\n",
       "       '07:40 04 Mar', '09:05 25 May', '08:15 10 Mar', '16:20 13 May',\n",
       "       '00:05 19 Mar', '00:15 25 Apr', '23:35 22 May', '08:15 02 Apr',\n",
       "       '20:45 02 Apr', '23:25 16 May', '17:25', '19:55 07 Mar',\n",
       "       '04:40 13 Jun', '00:05 25 Mar', '14:10', '00:25 02 Mar',\n",
       "       '00:40 10 May', '01:30 07 May', '19:15 22 May', '13:45 16 May',\n",
       "       '04:40 19 May', '19:15 04 Mar', '12:35 10 Jun', '23:55 13 Mar',\n",
       "       '07:45 02 Apr', '20:20 07 Mar', '09:20 22 May', '05:35 10 Jun',\n",
       "       '04:40 25 May', '22:05 25 May', '00:15 07 Apr', '10:05 16 May',\n",
       "       '05:35 13 May', '23:35 13 May', '19:15 04 Jun', '09:25 04 Apr',\n",
       "       '20:45 16 May', '09:45 16 May', '19:10 13 Mar', '12:00 16 May',\n",
       "       '22:35 16 May', '09:20 02 May', '19:00 25 Jun', '22:55 07 Mar',\n",
       "       '11:10 10 Jun', '13:45 25 Mar', '00:05 28 Apr', '16:20 07 Jun',\n",
       "       '04:40 02 Apr', '00:15 04 May', '04:05', '18:35', '22:35 07 Jun',\n",
       "       '04:40 10 May', '08:20', '00:50 02 Apr', '22:05 19 May',\n",
       "       '11:25 13 Mar', '08:10 25 Mar', '22:55 10 Jun', '09:35 25 Jun',\n",
       "       '10:00', '12:35 19 May', '10:35 02 Mar', '05:25 25 May',\n",
       "       '09:25 04 Mar', '01:20 13 Jun', '21:20 13 Mar', '07:10 13 Jun',\n",
       "       '19:50 10 Jun', '00:40 16 May', '00:15 02 May', '00:05 19 May',\n",
       "       '12:30 22 May', '20:45 13 May', '08:15 10 Jun', '21:05 13 Jun',\n",
       "       '00:40 04 May', '09:30 16 Mar', '14:25 13 Jun', '21:05 25 May',\n",
       "       '10:05 07 Jun', '00:05 10 Mar', '01:00 02 Apr', '08:15 16 Mar',\n",
       "       '13:15 13 Mar', '22:00', '22:45', '11:10 25 Mar', '14:35',\n",
       "       '09:00 02 Mar', '23:35 07 Jun', '14:25 25 May', '09:25 10 May',\n",
       "       '00:05 04 Apr', '05:05 02 Mar', '04:25 28 Jun', '20:45 25 May',\n",
       "       '04:40 04 Apr', '02:20 19 Mar', '21:05 16 May', '00:15 10 May',\n",
       "       '10:45', '15:15 13 Mar', '01:20 10 Jun', '20:20 13 May', '12:15',\n",
       "       '19:15 07 May', '00:15 28 Jun', '22:05 16 May', '15:15 07 Mar',\n",
       "       '09:05 07 May', '16:20 10 Jun', '10:45 07 May', '11:10 07 May',\n",
       "       '06:35 28 May', '08:55 10 Jun', '09:05 16 May', '08:55 22 May',\n",
       "       '10:50 07 Mar', '10:45 13 May', '01:30 02 May', '07:10 25 May',\n",
       "       '01:20 25 Apr', '14:40', '16:10 13 Mar', '19:15 28 Jun',\n",
       "       '00:20 16 Mar', '02:45 25 Apr', '10:40 25 May', '00:25 02 May',\n",
       "       '07:40 25 Jun', '22:40 13 May', '09:00 07 Mar', '19:10 25 May',\n",
       "       '01:20 02 Mar', '10:20 02 Mar', '18:45', '09:45 10 May',\n",
       "       '10:05 22 May', '01:20 10 May', '10:30 07 May', '10:00 10 Jun',\n",
       "       '07:40 28 Mar', '00:05 13 May', '00:40 13 Mar', '19:50 07 May',\n",
       "       '06:50 13 Jun', '20:20 07 Jun', '07:55', '18:00 16 May',\n",
       "       '18:15 02 Apr', '07:10 04 Mar', '10:40 07 May', '23:00 10 May',\n",
       "       '23:00 13 Mar', '16:05', '01:20 19 May', '16:35', '05:25 16 May',\n",
       "       '06:50 04 Jun', '22:35 13 May', '02:10 19 Mar', '19:10 10 Jun',\n",
       "       '18:50 02 May', '16:15 10 Jun', '00:20 25 Jun', '08:40',\n",
       "       '20:40 25 Mar', '10:30 25 May', '00:40 28 May', '02:45 16 Jun',\n",
       "       '08:15 02 Jun', '09:15 13 Mar', '03:35 19 May', '05:35 07 Jun',\n",
       "       '18:15 10 Jun', '10:45 10 May', '16:45 07 Mar', '01:20 10 Apr',\n",
       "       '21:05 02 Apr', '02:20 16 May', '00:05 25 May', '20:45 22 May',\n",
       "       '11:10 02 Apr', '02:45 10 May', '19:00 07 Jun', '22:40 10 May',\n",
       "       '07:40 13 Jun', '04:25 05 Mar', '01:00 13 Apr', '18:00 13 May',\n",
       "       '00:40 04 Apr', '03:35 25 May', '00:15 22 May', '12:00 19 May',\n",
       "       '14:25 22 May', '00:15 04 Jun', '22:05 07 May', '07:10 10 Jun',\n",
       "       '08:15 07 Jun', '07:40 10 May', '00:15 19 Mar', '18:30 16 May',\n",
       "       '19:10 22 May', '12:50', '03:15', '09:50 07 May', '00:05 04 Mar',\n",
       "       '19:15 10 May', '10:25 07 Mar', '08:15 22 May', '05:25 07 Jun',\n",
       "       '00:15 02 Jun', '00:15 07 Jun', '23:35 10 Jun', '23:25 02 Mar',\n",
       "       '01:20 04 May', '22:40 19 May', '14:25 10 Jun', '10:40 19 May',\n",
       "       '09:15 25 Mar', '23:00 04 Mar', '10:45 19 May', '00:50 13 Jun',\n",
       "       '14:50', '01:20 22 May', '20:25 13 May', '12:25 13 Mar',\n",
       "       '04:25 29 Mar', '11:55 07 Mar', '10:05 02 Apr', '00:05 02 Apr',\n",
       "       '05:05 07 Mar', '04:35 10 Jun', '06:50 19 May', '12:30 13 Jun',\n",
       "       '00:05 02 Jun', '07:55 07 Jun', '12:40', '18:30 02 May',\n",
       "       '07:55 19 May', '02:45 02 Apr', '19:00 04 Jun', '00:50 19 Apr',\n",
       "       '13:00 07 Mar', '00:40 13 Apr', '00:05 22 Mar', '00:40 07 May',\n",
       "       '00:20 07 Mar', '22:05 22 May', '19:15 10 Apr', '00:05 28 Jun',\n",
       "       '07:55 02 Apr', '04:25 20 May', '00:20 02 Apr', '07:45 13 May',\n",
       "       '00:15 22 Jun', '20:25 07 Jun'], dtype=object)"
      ]
     },
     "execution_count": 120,
     "metadata": {},
     "output_type": "execute_result"
    }
   ],
   "source": [
    "test['Arrival_Time'].unique()"
   ]
  },
  {
   "cell_type": "code",
   "execution_count": 121,
   "id": "874b5377",
   "metadata": {},
   "outputs": [],
   "source": [
    "ab = []\n",
    "for i in test['Arrival_Time']:\n",
    "    i = i[:2]\n",
    "    ab.append(i)"
   ]
  },
  {
   "cell_type": "code",
   "execution_count": 123,
   "id": "46836168",
   "metadata": {},
   "outputs": [],
   "source": [
    "test['Arrival_Time'] = pd.Series(ab)"
   ]
  },
  {
   "cell_type": "code",
   "execution_count": 124,
   "id": "d7581ea8",
   "metadata": {},
   "outputs": [],
   "source": [
    "test['Arrival_Time'] = pd.to_numeric(test['Arrival_Time'])"
   ]
  },
  {
   "cell_type": "code",
   "execution_count": 125,
   "id": "8cf143b3",
   "metadata": {},
   "outputs": [
    {
     "data": {
      "text/plain": [
       "array(['10h 55m', '4h', '23h 45m', '13h', '2h 50m', '18h 20m', '15h 5m',\n",
       "       '5h 15m', '2h 45m', '6h 5m', '28h 55m', '9h 20m', '10h 15m',\n",
       "       '4h 40m', '17h 20m', '10h 50m', '9h 15m', '12h 15m', '9h 10m',\n",
       "       '14h 50m', '14h 5m', '11h 35m', '13h 30m', '12h 25m', '2h 30m',\n",
       "       '25h 30m', '19h 25m', '7h', '11h 40m', '7h 5m', '3h', '1h 25m',\n",
       "       '2h 40m', '17h 5m', '10h 40m', '12h 30m', '1h 30m', '23h 40m',\n",
       "       '2h 20m', '23h 35m', '27h 40m', '28h 20m', '5h 45m', '26h 25m',\n",
       "       '5h 40m', '2h 15m', '2h 55m', '7h 30m', '5h 20m', '25h 50m',\n",
       "       '13h 15m', '26h 20m', '5h 25m', '8h 45m', '7h 20m', '21h 10m',\n",
       "       '16h', '7h 50m', '16h 5m', '5h 55m', '13h 50m', '11h 55m',\n",
       "       '13h 20m', '18h 10m', '28h 10m', '5h', '23h 15m', '1h 15m',\n",
       "       '1h 20m', '13h 25m', '6h 15m', '10h 10m', '4h 35m', '11h',\n",
       "       '12h 20m', '15h 10m', '19h', '13h 45m', '9h 50m', '2h 35m',\n",
       "       '7h 15m', '23h', '10h 25m', '5h 5m', '22h 45m', '8h 40m',\n",
       "       '11h 30m', '15h 40m', '7h 55m', '12h 50m', '25h 25m', '10h 20m',\n",
       "       '8h 30m', '12h 45m', '12h 10m', '22h 30m', '7h 45m', '21h 55m',\n",
       "       '6h 30m', '2h 25m', '25h 45m', '33h 20m', '11h 25m', '15h 15m',\n",
       "       '14h 30m', '8h', '21h 15m', '26h 50m', '16h 50m', '9h 5m',\n",
       "       '16h 45m', '11h 15m', '22h 55m', '17h 45m', '23h 10m', '25h 20m',\n",
       "       '23h 50m', '14h 25m', '24h 50m', '10h 30m', '19h 40m', '6h 20m',\n",
       "       '27h 20m', '9h 25m', '5h 10m', '7h 40m', '6h 35m', '28h 50m',\n",
       "       '14h 35m', '19h 55m', '38h', '4h 45m', '6h 25m', '21h 40m',\n",
       "       '3h 5m', '4h 55m', '16h 10m', '6h 45m', '11h 45m', '6h', '22h 25m',\n",
       "       '19h 10m', '24h', '14h 40m', '20h 30m', '16h 15m', '8h 15m',\n",
       "       '8h 25m', '23h 5m', '19h 30m', '25h 10m', '21h 25m', '4h 50m',\n",
       "       '18h 25m', '4h 5m', '16h 40m', '28h', '24h 55m', '6h 55m',\n",
       "       '8h 20m', '26h', '9h', '20h 55m', '23h 20m', '27h 35m', '21h 35m',\n",
       "       '15h 30m', '14h', '28h 40m', '14h 45m', '11h 10m', '20h',\n",
       "       '24h 15m', '12h', '20h 10m', '27h 45m', '20h 35m', '11h 5m',\n",
       "       '12h 35m', '25h', '10h', '18h 50m', '18h 45m', '8h 5m', '4h 25m',\n",
       "       '14h 55m', '22h 5m', '9h 45m', '25h 55m', '25h 5m', '4h 10m',\n",
       "       '9h 35m', '26h 55m', '11h 50m', '7h 35m', '5h 35m', '5h 30m',\n",
       "       '35h 35m', '17h 15m', '15h 45m', '3h 15m', '16h 25m', '25h 40m',\n",
       "       '12h 40m', '12h 55m', '10h 35m', '31h 55m', '20h 45m', '38h 15m',\n",
       "       '24h 45m', '1h 35m', '24h 30m', '34h 30m', '23h 30m', '6h 10m',\n",
       "       '9h 30m', '8h 55m', '26h 35m', '15h 35m', '5h 50m', '20h 20m',\n",
       "       '23h 55m', '22h 10m', '20h 15m', '13h 55m', '3h 40m', '33h 15m',\n",
       "       '25h 35m', '17h 55m', '24h 10m', '29h 35m', '27h 5m', '15h 25m',\n",
       "       '3h 10m', '13h 35m', '8h 50m', '6h 40m', '30h 20m', '15h 55m',\n",
       "       '21h 5m', '26h 40m', '37h 20m', '29h 20m', '13h 5m', '29h 40m',\n",
       "       '10h 5m', '4h 30m', '21h 20m', '13h 10m', '17h 35m', '33h 45m',\n",
       "       '6h 50m', '26h 10m', '16h 35m', '36h 25m', '3h 45m', '14h 20m',\n",
       "       '22h 15m', '17h 25m', '31h 10m', '24h 5m', '20h 25m', '18h 30m',\n",
       "       '26h 15m', '30h 40m', '30h', '27h 10m', '24h 40m', '15h 20m',\n",
       "       '7h 10m', '28h 15m', '14h 10m', '18h 40m', '27h 50m', '8h 10m',\n",
       "       '39h 5m', '16h 20m', '12h 5m', '19h 15m', '29h 55m', '27h',\n",
       "       '30h 45m', '29h 5m', '32h 5m', '32h 20m', '15h', '15h 50m',\n",
       "       '22h 40m', '19h 45m', '30h 30m', '18h', '28h 5m', '24h 25m',\n",
       "       '9h 40m', '24h 35m', '21h 45m', '10h 45m', '17h 40m', '16h 30m',\n",
       "       '27h 55m', '16h 55m', '8h 35m', '26h 30m', '30h 25m', '27h 30m',\n",
       "       '26h 5m', '22h', '19h 5m', '11h 20m', '40h 40m', '22h 50m',\n",
       "       '32h 25m', '17h 30m', '7h 25m', '4h 20m', '24h 20m', '38h 35m',\n",
       "       '9h 55m', '38h 20m', '5m'], dtype=object)"
      ]
     },
     "execution_count": 125,
     "metadata": {},
     "output_type": "execute_result"
    }
   ],
   "source": [
    "test['Duration'].unique()"
   ]
  },
  {
   "cell_type": "code",
   "execution_count": 127,
   "id": "1094aae5",
   "metadata": {},
   "outputs": [],
   "source": [
    "ab = []\n",
    "for i in test['Duration']:\n",
    "    i = i[:3]\n",
    "    ab.append(i)"
   ]
  },
  {
   "cell_type": "code",
   "execution_count": 129,
   "id": "1a41620b",
   "metadata": {},
   "outputs": [],
   "source": [
    "test['Duration'] = pd.Series(ab)"
   ]
  },
  {
   "cell_type": "code",
   "execution_count": 130,
   "id": "256917d4",
   "metadata": {},
   "outputs": [
    {
     "data": {
      "text/plain": [
       "array(['10h', '4h', '23h', '13h', '2h ', '18h', '15h', '5h ', '6h ',\n",
       "       '28h', '9h ', '4h ', '17h', '12h', '14h', '11h', '25h', '19h',\n",
       "       '7h', '7h ', '3h', '1h ', '27h', '26h', '8h ', '21h', '16h', '5h',\n",
       "       '22h', '33h', '8h', '24h', '38h', '3h ', '6h', '20h', '9h', '35h',\n",
       "       '31h', '34h', '29h', '30h', '37h', '36h', '39h', '32h', '40h',\n",
       "       '5m'], dtype=object)"
      ]
     },
     "execution_count": 130,
     "metadata": {},
     "output_type": "execute_result"
    }
   ],
   "source": [
    "test['Duration'].unique()"
   ]
  },
  {
   "cell_type": "code",
   "execution_count": 131,
   "id": "605d3b85",
   "metadata": {},
   "outputs": [],
   "source": [
    "test['Duration'] = test['Duration'].replace(['10h', '4h', '23h', '13h', '2h ', '18h', '15h', '5h ', '6h ',\n",
    "                                             '28h', '9h ', '4h ', '17h', '12h', '14h', '11h', '25h', '19h',\n",
    "                                             '7h', '7h ', '3h', '1h ', '27h', '26h', '8h ', '21h', '16h', '5h',\n",
    "                                             '22h', '33h', '8h', '24h', '38h', '3h ', '6h', '20h', '9h', '35h',\n",
    "                                             '31h', '34h', '29h', '30h', '37h', '36h', '39h', '32h', '40h', '5m'],\n",
    "                                             [ 10, 4, 23, 13, 2, 18, 15, 5, 6,\n",
    "                                               28, 9, 4, 17, 12, 14, 11, 25, 19,\n",
    "                                               7, 7, 3, 1, 27, 26, 8, 21, 16, 5,\n",
    "                                               22, 33, 8, 24, 38, 3, 6, 20, 9, 35,\n",
    "                                               31, 34, 29, 30, 37, 36, 39, 32, 40, 5])"
   ]
  },
  {
   "cell_type": "code",
   "execution_count": 132,
   "id": "589993b6",
   "metadata": {},
   "outputs": [
    {
     "data": {
      "text/plain": [
       "array(['1 stop', 'non-stop', '2 stops', '3 stops', '4 stops'],\n",
       "      dtype=object)"
      ]
     },
     "execution_count": 132,
     "metadata": {},
     "output_type": "execute_result"
    }
   ],
   "source": [
    "test['Total_Stops'].unique()"
   ]
  },
  {
   "cell_type": "code",
   "execution_count": 133,
   "id": "502eb8cb",
   "metadata": {},
   "outputs": [],
   "source": [
    "test['Total_Stops'] = test['Total_Stops'].replace(['non-stop', '2 stops', '1 stop', '3 stops', '4 stops'], np.arange(0,5))"
   ]
  },
  {
   "cell_type": "code",
   "execution_count": 134,
   "id": "7a678a41",
   "metadata": {},
   "outputs": [
    {
     "data": {
      "text/plain": [
       "array(['No info', 'In-flight meal not included',\n",
       "       'No check-in baggage included', '1 Long layover', 'Business class',\n",
       "       'Change airports'], dtype=object)"
      ]
     },
     "execution_count": 134,
     "metadata": {},
     "output_type": "execute_result"
    }
   ],
   "source": [
    "test['Additional_Info'].unique()"
   ]
  },
  {
   "cell_type": "code",
   "execution_count": 135,
   "id": "a3a9171c",
   "metadata": {},
   "outputs": [],
   "source": [
    "test['Additional_Info'] = test['Additional_Info'].replace(['No info', 'In-flight meal not included',\n",
    "                                                           'No check-in baggage included', '1 Long layover', 'Business class',\n",
    "                                                           'Change airports'], np.arange(0,6))"
   ]
  },
  {
   "cell_type": "markdown",
   "id": "848729c0",
   "metadata": {},
   "source": [
    "#### Now lets scaled test dataset to remove any outliers present in it."
   ]
  },
  {
   "cell_type": "code",
   "execution_count": 136,
   "id": "c8679310",
   "metadata": {},
   "outputs": [],
   "source": [
    "scaledX_test = scaler.transform(test)"
   ]
  },
  {
   "cell_type": "markdown",
   "id": "5a2b1a99",
   "metadata": {},
   "source": [
    "#### Now lets make prediction using Random Forest Regression Model"
   ]
  },
  {
   "cell_type": "code",
   "execution_count": 137,
   "id": "cc8524bc",
   "metadata": {},
   "outputs": [],
   "source": [
    "rf = RandomForestRegressor(max_depth= 5, min_samples_leaf= 1, min_samples_split= 3)"
   ]
  },
  {
   "cell_type": "code",
   "execution_count": 138,
   "id": "d918d435",
   "metadata": {},
   "outputs": [],
   "source": [
    "pred = rf.fit(scaledX_train, y_train).predict(scaledX_test)"
   ]
  },
  {
   "cell_type": "code",
   "execution_count": 140,
   "id": "6e2a6f6e",
   "metadata": {},
   "outputs": [
    {
     "data": {
      "text/html": [
       "<div>\n",
       "<style scoped>\n",
       "    .dataframe tbody tr th:only-of-type {\n",
       "        vertical-align: middle;\n",
       "    }\n",
       "\n",
       "    .dataframe tbody tr th {\n",
       "        vertical-align: top;\n",
       "    }\n",
       "\n",
       "    .dataframe thead th {\n",
       "        text-align: right;\n",
       "    }\n",
       "</style>\n",
       "<table border=\"1\" class=\"dataframe\">\n",
       "  <thead>\n",
       "    <tr style=\"text-align: right;\">\n",
       "      <th></th>\n",
       "      <th>Prediction Price</th>\n",
       "    </tr>\n",
       "  </thead>\n",
       "  <tbody>\n",
       "    <tr>\n",
       "      <th>0</th>\n",
       "      <td>8678.0</td>\n",
       "    </tr>\n",
       "    <tr>\n",
       "      <th>1</th>\n",
       "      <td>6417.0</td>\n",
       "    </tr>\n",
       "    <tr>\n",
       "      <th>2</th>\n",
       "      <td>6643.0</td>\n",
       "    </tr>\n",
       "    <tr>\n",
       "      <th>3</th>\n",
       "      <td>11749.0</td>\n",
       "    </tr>\n",
       "    <tr>\n",
       "      <th>4</th>\n",
       "      <td>4758.0</td>\n",
       "    </tr>\n",
       "    <tr>\n",
       "      <th>...</th>\n",
       "      <td>...</td>\n",
       "    </tr>\n",
       "    <tr>\n",
       "      <th>2666</th>\n",
       "      <td>11353.0</td>\n",
       "    </tr>\n",
       "    <tr>\n",
       "      <th>2667</th>\n",
       "      <td>4955.0</td>\n",
       "    </tr>\n",
       "    <tr>\n",
       "      <th>2668</th>\n",
       "      <td>8603.0</td>\n",
       "    </tr>\n",
       "    <tr>\n",
       "      <th>2669</th>\n",
       "      <td>11353.0</td>\n",
       "    </tr>\n",
       "    <tr>\n",
       "      <th>2670</th>\n",
       "      <td>11749.0</td>\n",
       "    </tr>\n",
       "  </tbody>\n",
       "</table>\n",
       "<p>2671 rows × 1 columns</p>\n",
       "</div>"
      ],
      "text/plain": [
       "      Prediction Price\n",
       "0               8678.0\n",
       "1               6417.0\n",
       "2               6643.0\n",
       "3              11749.0\n",
       "4               4758.0\n",
       "...                ...\n",
       "2666           11353.0\n",
       "2667            4955.0\n",
       "2668            8603.0\n",
       "2669           11353.0\n",
       "2670           11749.0\n",
       "\n",
       "[2671 rows x 1 columns]"
      ]
     },
     "execution_count": 140,
     "metadata": {},
     "output_type": "execute_result"
    }
   ],
   "source": [
    "prediction = pd.DataFrame({'Prediction Price': np.round(pred, 0)})\n",
    "prediction"
   ]
  },
  {
   "cell_type": "markdown",
   "id": "0e25c649",
   "metadata": {},
   "source": [
    "#### we can check performance of the model using trainin dataset."
   ]
  },
  {
   "cell_type": "code",
   "execution_count": 141,
   "id": "1aab6597",
   "metadata": {},
   "outputs": [
    {
     "data": {
      "text/plain": [
       "0.6428305431364427"
      ]
     },
     "execution_count": 141,
     "metadata": {},
     "output_type": "execute_result"
    }
   ],
   "source": [
    "rf.score(scaledX_train, y_train)"
   ]
  },
  {
   "cell_type": "markdown",
   "id": "6663e499",
   "metadata": {},
   "source": [
    "#### Hence model is giving quite good score for training dataset. So I can only hope that it is also giving good performance for testing dataset as there is no way that we can check it as no actual values were provided. Now lets save the model."
   ]
  },
  {
   "cell_type": "code",
   "execution_count": 142,
   "id": "bf561dd1",
   "metadata": {},
   "outputs": [],
   "source": [
    "save_rf = pickle.dumps(rf)"
   ]
  },
  {
   "cell_type": "markdown",
   "id": "68c90632",
   "metadata": {},
   "source": [
    "#### Hence we have made the prediction using the best suited model and also saved it. So we have achieved our objective in the task."
   ]
  }
 ],
 "metadata": {
  "kernelspec": {
   "display_name": "Python 3 (ipykernel)",
   "language": "python",
   "name": "python3"
  },
  "language_info": {
   "codemirror_mode": {
    "name": "ipython",
    "version": 3
   },
   "file_extension": ".py",
   "mimetype": "text/x-python",
   "name": "python",
   "nbconvert_exporter": "python",
   "pygments_lexer": "ipython3",
   "version": "3.9.7"
  }
 },
 "nbformat": 4,
 "nbformat_minor": 5
}
